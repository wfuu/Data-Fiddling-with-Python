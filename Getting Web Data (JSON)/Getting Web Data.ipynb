{
 "cells": [
  {
   "cell_type": "markdown",
   "metadata": {},
   "source": [
    "<h3> Getting data from JSON files </h3>"
   ]
  },
  {
   "cell_type": "markdown",
   "metadata": {},
   "source": [
    "<h4> Use the <i>requests</i> library to get the contents of a web page </h4>\n",
    "First use the website <b> brit.co </b> as an example, for a search on <font color='green'> \"succulents\" </font> <i> (the plant, not the edible!) </i>"
   ]
  },
  {
   "cell_type": "code",
   "execution_count": 12,
   "metadata": {
    "collapsed": true
   },
   "outputs": [],
   "source": [
    "import requests"
   ]
  },
  {
   "cell_type": "code",
   "execution_count": 13,
   "metadata": {
    "collapsed": false
   },
   "outputs": [
    {
     "data": {
      "text/plain": [
       "requests.models.Response"
      ]
     },
     "execution_count": 13,
     "metadata": {},
     "output_type": "execute_result"
    }
   ],
   "source": [
    "url = \"http://www.brit.co/?s=succulents\"\n",
    "response = requests.get(url)\n",
    "type(response)"
   ]
  },
  {
   "cell_type": "markdown",
   "metadata": {},
   "source": [
    "Check if the request was successful by checking the response status code."
   ]
  },
  {
   "cell_type": "code",
   "execution_count": 14,
   "metadata": {
    "collapsed": false
   },
   "outputs": [
    {
     "name": "stdout",
     "output_type": "stream",
     "text": [
      "Success!\n"
     ]
    },
    {
     "data": {
      "text/plain": [
       "200"
      ]
     },
     "execution_count": 14,
     "metadata": {},
     "output_type": "execute_result"
    }
   ],
   "source": [
    "if response.status_code == 200:\n",
    "    print(\"Success!\")\n",
    "response.status_code"
   ]
  },
  {
   "cell_type": "markdown",
   "metadata": {},
   "source": [
    "To begin, list the attributes of the response..."
   ]
  },
  {
   "cell_type": "code",
   "execution_count": 10,
   "metadata": {
    "collapsed": false
   },
   "outputs": [
    {
     "data": {
      "text/plain": [
       "['__attrs__',\n",
       " '__bool__',\n",
       " '__class__',\n",
       " '__delattr__',\n",
       " '__dict__',\n",
       " '__doc__',\n",
       " '__format__',\n",
       " '__getattribute__',\n",
       " '__getstate__',\n",
       " '__hash__',\n",
       " '__init__',\n",
       " '__iter__',\n",
       " '__module__',\n",
       " '__new__',\n",
       " '__nonzero__',\n",
       " '__reduce__',\n",
       " '__reduce_ex__',\n",
       " '__repr__',\n",
       " '__setattr__',\n",
       " '__setstate__',\n",
       " '__sizeof__',\n",
       " '__str__',\n",
       " '__subclasshook__',\n",
       " '__weakref__',\n",
       " '_content',\n",
       " '_content_consumed',\n",
       " 'apparent_encoding',\n",
       " 'close',\n",
       " 'connection',\n",
       " 'content',\n",
       " 'cookies',\n",
       " 'elapsed',\n",
       " 'encoding',\n",
       " 'headers',\n",
       " 'history',\n",
       " 'iter_content',\n",
       " 'iter_lines',\n",
       " 'json',\n",
       " 'links',\n",
       " 'ok',\n",
       " 'raise_for_status',\n",
       " 'raw',\n",
       " 'reason',\n",
       " 'request',\n",
       " 'status_code',\n",
       " 'text',\n",
       " 'url']"
      ]
     },
     "execution_count": 10,
     "metadata": {},
     "output_type": "execute_result"
    }
   ],
   "source": [
    "# list of attributes\n",
    "dir(response)"
   ]
  },
  {
   "cell_type": "markdown",
   "metadata": {},
   "source": [
    "...or use <i> response.headers </i> to get general information about the response and connection."
   ]
  },
  {
   "cell_type": "code",
   "execution_count": 15,
   "metadata": {
    "collapsed": false
   },
   "outputs": [
    {
     "data": {
      "text/plain": [
       "{'accept-ranges': 'bytes',\n",
       " 'age': '908',\n",
       " 'cache-control': 'no-cache=\"set-cookie\"',\n",
       " 'connection': 'keep-alive',\n",
       " 'content-encoding': 'gzip',\n",
       " 'content-length': '11077',\n",
       " 'content-type': 'text/html; charset=UTF-8',\n",
       " 'date': 'Thu, 15 Sep 2016 22:11:47 GMT',\n",
       " 'link': '<http://www.brit.co/api/v4/>; rel=\"https://api.w.org/\", <http://www.brit.co/api/v3>; rel=\"https://github.com/WP-API/WP-API\", <http://www.brit.co/page/2/?s=succulents>; rel=next',\n",
       " 'server': 'nginx/1.10.1',\n",
       " 'set-cookie': 'AWSELB=CD4D3B131ED2265459EAAC501F754497B9D33613565B6388B48C387A9BB1C1C643C780EE32893D9D6480126402F2BC72D992C690966957671151C4CE4F8AEA42104D173F34;PATH=/;MAX-AGE=30',\n",
       " 'vary': 'Accept-Encoding',\n",
       " 'via': '1.1 varnish-v4',\n",
       " 'x-cache': 'HIT',\n",
       " 'x-varnish': '50638124 60821435'}"
      ]
     },
     "execution_count": 15,
     "metadata": {},
     "output_type": "execute_result"
    }
   ],
   "source": [
    "dict(response.headers)"
   ]
  },
  {
   "cell_type": "markdown",
   "metadata": {},
   "source": [
    "Getting the raw text returned by the server is not particular helpful..."
   ]
  },
  {
   "cell_type": "code",
   "execution_count": 16,
   "metadata": {
    "collapsed": false
   },
   "outputs": [
    {
     "data": {
      "text/plain": [
       "u'<!DOCTYPE html PUBLIC \"-//W3C//DTD XHTML 1.0 Strict//EN\" \"http://www.w3.org/TR/xhtml1/DTD/xhtml1-strict.dtd\">\\n<!--[if lt IE 7]><html xmlns=\"http://www.w3.org/1999/xhtml\" xml:lang=\"en\" lang=\"en\" class=\"ie ie6 lte9 lte8 lte7 no-js will-load-js-app\"><![endif]-->\\n<!--[if IE 7]><html xmlns=\"http://www.w3.org/1999/xhtml\" xml:lang=\"en\" lang=\"en\" class=\"ie ie7 lte9 lte8 lte7 no-js will-load-js-app\"><![endif]-->\\n<!--[if IE 8]><html xmlns=\"http://www.w3.org/1999/xhtml\" xml:lang=\"en\" lang=\"en\" class=\"ie ie8 lte9 lte8 no-js will-load-js-app\"><![endif]-->\\n<!--[if IE 9]><html xmlns=\"http://www.w3.org/1999/xhtml\" xml:lang=\"en\" lang=\"en\" class=\"ie ie9 lte9 no-js will-load-js-app\"><![endif]-->\\n<!--[if (gt IE 9)|!(IE)]><!--><html data-ng-app=\"bc.components\" class=\"no-js will-load-js-app\" xmlns=\"http://www.w3.org/1999/xhtml\" xmlns:og=\"http://opengraphprotocol.org/schema/\" xmlns:fb=\"http://www.facebook.com/2008/fbml\" xml:lang=\"en\" lang=\"en\"><!--<![endif]-->\\n<head profile=\"http://gmpg.org/xfn/11\">\\n<meta http-equiv=\"Content-Type\" content=\"text/html; charset=UTF-8\" />\\n<meta name=\"viewport\" content=\"width=device-width, initial-scale=1\" />\\n<meta name=\"p:domain_verify\" content=\"546c47eced09084d534a691611be06f5\"/>\\n<meta name=\"description\" content=\"A new media and commerce company that enables creativity through inspirational content, online classes and do-it-yourself kits.\" />\\n<meta property=\"fb:app_id\" content=\"178746098878561\"/>\\n<meta property=\"og:url\" content=\"http://www.brit.co\"/>\\n<meta property=\"og:title\" content=\"42 Creative Ways to Use Succulents in Your Wedding\"/>\\n<meta property=\"og:site_name\" content=\"Brit + Co\"/>\\n<meta property=\"og:description\" content=\"A new media and commerce company that enables creativity through inspirational content, online classes and do-it-yourself kits.\"/>\\n<meta property=\"og:type\" content=\"website\"/>\\n<meta property=\"og:image\" content=\"http://images.britcdn.com/wp-content/uploads/2014/07/featured-image47.jpg\"/>\\n<meta property=\"og:image\" content=\"http://pixel.brit.co/wp-content/uploads/2016/01/B-C_condensed.png\"/>\\n<meta property=\"og:locale\" content=\"en_us\"/>\\n<title> succulents | Search Results  | Brit + Co</title>\\n<link rel=\"pingback\" href=\"http://www.brit.co/xmlrpc.php\" />\\n<link href=\"https://plus.google.com/110894137020967325314/\" rel=\"publisher\" />\\n<link rel=\"icon\" type=\"image/x-icon\" href=\"https://pixel.brit.co/favicon.ico\" />\\n<link rel=\"shortcut icon\" type=\"image/x-icon\" href=\"https://pixel.brit.co/favicon.ico\" />\\n<link rel=\"apple-touch-icon\" href=\"https://pixel.brit.co/apple-touch-icon-precomposed.png\" />\\n<link rel=\"apple-touch-icon\" sizes=\"114x114\" href=\"https://pixel.brit.co/apple-touch-icon-precomposed-114x114.png\" />\\n<link rel=\"apple-touch-icon\" sizes=\"144x144\" href=\"https://pixel.brit.co/apple-touch-icon-precomposed-144x144.png\" />\\n\\n\\t\\t\\t<style type=\"text/css\">\\n\\t\\t\\t\\t.responsive-iframe {\\n\\t\\t\\t\\t\\t\\tdisplay: block;\\n\\t\\t\\t\\t\\t\\tposition: relative;\\n\\t\\t\\t\\t\\t\\theight: 0;\\n\\t\\t\\t\\t}\\n\\n\\t\\t\\t\\t.responsive-iframe iframe {\\n\\t\\t\\t\\t\\tposition: absolute;\\n\\t\\t\\t\\t\\ttop: 0;\\n\\t\\t\\t\\t\\tleft: 0;\\n\\t\\t\\t\\t\\twidth: 100%;\\n\\t\\t\\t\\t\\theight: 100%;\\n\\t\\t\\t\\t}\\n\\t\\t\\t</style>\\n\\t\\t\\t<link rel=\"alternate\" type=\"application/rss+xml\" title=\"Brit + Co &raquo; Feed\" href=\"//www.brit.co/feed/\" />\\n<link rel=\"alternate\" type=\"application/rss+xml\" title=\"Brit + Co &raquo; Search Results for &#8220;succulents&#8221; Feed\" href=\"//www.brit.co/search/succulents/feed/rss2/\" />\\n\\t\\t<script type=\"text/javascript\">\\n\\t\\t\\twindow._wpemojiSettings = {\"baseUrl\":\"https:\\\\/\\\\/s.w.org\\\\/images\\\\/core\\\\/emoji\\\\/72x72\\\\/\",\"ext\":\".png\",\"source\":{\"concatemoji\":\"http:\\\\/\\\\/www.brit.co\\\\/wp-includes\\\\/js\\\\/wp-emoji-release.min.js?ver=4.5.4\"}};\\n\\t\\t\\t!function(a,b,c){function d(a){var c,d,e,f=b.createElement(\"canvas\"),g=f.getContext&&f.getContext(\"2d\"),h=String.fromCharCode;if(!g||!g.fillText)return!1;switch(g.textBaseline=\"top\",g.font=\"600 32px Arial\",a){case\"flag\":return g.fillText(h(55356,56806,55356,56826),0,0),f.toDataURL().length>3e3;case\"diversity\":return g.fillText(h(55356,57221),0,0),c=g.getImageData(16,16,1,1).data,d=c[0]+\",\"+c[1]+\",\"+c[2]+\",\"+c[3],g.fillText(h(55356,57221,55356,57343),0,0),c=g.getImageData(16,16,1,1).data,e=c[0]+\",\"+c[1]+\",\"+c[2]+\",\"+c[3],d!==e;case\"simple\":return g.fillText(h(55357,56835),0,0),0!==g.getImageData(16,16,1,1).data[0];case\"unicode8\":return g.fillText(h(55356,57135),0,0),0!==g.getImageData(16,16,1,1).data[0]}return!1}function e(a){var c=b.createElement(\"script\");c.src=a,c.type=\"text/javascript\",b.getElementsByTagName(\"head\")[0].appendChild(c)}var f,g,h,i;for(i=Array(\"simple\",\"flag\",\"unicode8\",\"diversity\"),c.supports={everything:!0,everythingExceptFlag:!0},h=0;h<i.length;h++)c.supports[i[h]]=d(i[h]),c.supports.everything=c.supports.everything&&c.supports[i[h]],\"flag\"!==i[h]&&(c.supports.everythingExceptFlag=c.supports.everythingExceptFlag&&c.supports[i[h]]);c.supports.everythingExceptFlag=c.supports.everythingExceptFlag&&!c.supports.flag,c.DOMReady=!1,c.readyCallback=function(){c.DOMReady=!0},c.supports.everything||(g=function(){c.readyCallback()},b.addEventListener?(b.addEventListener(\"DOMContentLoaded\",g,!1),a.addEventListener(\"load\",g,!1)):(a.attachEvent(\"onload\",g),b.attachEvent(\"onreadystatechange\",function(){\"complete\"===b.readyState&&c.readyCallback()})),f=c.source||{},f.concatemoji?e(f.concatemoji):f.wpemoji&&f.twemoji&&(e(f.twemoji),e(f.wpemoji)))}(window,document,window._wpemojiSettings);\\n\\t\\t</script>\\n\\t\\t<style type=\"text/css\">\\nimg.wp-smiley,\\nimg.emoji {\\n\\tdisplay: inline !important;\\n\\tborder: none !important;\\n\\tbox-shadow: none !important;\\n\\theight: 1em !important;\\n\\twidth: 1em !important;\\n\\tmargin: 0 .07em !important;\\n\\tvertical-align: -0.1em !important;\\n\\tbackground: none !important;\\n\\tpadding: 0 !important;\\n}\\n</style>\\n<link rel=\\'stylesheet\\' id=\\'yarppWidgetCss-css\\'  href=\\'https://pixel.brit.co/wp-content/plugins/yet-another-related-posts-plugin/style/widget.css?ver=4.5.4\\' type=\\'text/css\\' media=\\'all\\' />\\n<link rel=\\'stylesheet\\' id=\\'components-css\\'  href=\\'https://components.britcdn.com/components-1.4.21.min.css?ver=0b28e98-www-brit-co\\' type=\\'text/css\\' media=\\'all\\' />\\n<link rel=\\'stylesheet\\' id=\\'main-css\\'  href=\\'https://pixel.brit.co/wp-content/themes/britco-responsive/_compiled/css/main.css?ver=0b28e98-www-brit-co\\' type=\\'text/css\\' media=\\'all\\' />\\n<link rel=\\'stylesheet\\' id=\\'add_custom_wp_toolbar_css-css\\'  href=\\'https://pixel.brit.co/wp-content/plugins/brit-tools/css/admin_menu.css?ver=4.5.4\\' type=\\'text/css\\' media=\\'screen\\' />\\n<script type=\\'text/javascript\\' pagespeed_no_defer=\\'\\' src=\\'https://pixel.brit.co/wp-content/themes/britco-responsive/js/head.js?ver=0b28e98-www-brit-co\\'></script><link rel=\\'https://api.w.org/\\' href=\\'//www.brit.co/api/v4/\\' />\\n<link rel=\\'https://github.com/WP-API/WP-API\\' href=\\'//www.brit.co/api/v3\\' />\\n<link rel=\"next\" href=\"//www.brit.co/page/2/?s=succulents\" />\\n  <script pagespeed_no_defer=\"\">\\n          window.brit = window.brit || {};\\n          window.brit[\"disable_legacy_scroll\"] = true;\\n          window.brit[\"is_grid_page\"] = true;\\n          window.brit[\"grid_page_number\"] = 1;\\n          window.brit[\"next_page\"] = \"http:\\\\/\\\\/www.brit.co\\\\/page\\\\/2\\\\/?s=succulents\";\\n          </script>\\n  \\n<!-- WordPress Facebook Open Graph protocol plugin (WPFBOGP v2.0.13) http://rynoweb.com/wordpress-plugins/ -->\\n<!-- // end wpfbogp -->\\n  <script pagespeed_no_defer=\"\">\\n    </script><script type=\"text/javascript\">\\n  if (location.href.indexOf(\"#post/\") > -1){\\n    location.assign(location.href.replace(/\\\\/?#post/, \"\"));\\n  } else if (location.href.indexOf(\"#posts/\") > -1) {\\n    location.assign(location.href.replace(/\\\\/?#posts/, \"/category\"));\\n  }\\n\\n</script>\\n\\n<script type=\"text/javascript\" src=\"//use.typekit.net/qba8dan.js\" pagespeed_no_defer=\"\"></script>\\n<script type=\"text/javascript\" pagespeed_no_defer=\"\">try{Typekit.load();}catch(e){}</script>\\n</head>\\n<body class=\"search search-results bg-grid\">\\n    <script pagespeed_no_defer=\"\">\\n      \\n(function() {\\n  // Handle bootstrapped user information\\n  var user_id = null;\\n\\n  var cookie_prefix = \"brit_co_\";\\n\\n  try {\\n    var regex = new RegExp(cookie_prefix + \\'sessionuid=([^;]*)\\');\\n    user_id = parseInt(document.cookie.match(regex)[1], 10);\\n    regex = new RegExp(\\'_\\' + cookie_prefix + \\'sessionuid=([^;]*)\\');\\n    regex = new RegExp(\\'www_\\' + cookie_prefix + \\'sessionuid=([^;]*)\\');\\n    user_id = parseInt(document.cookie.match(regex)[1], 10);\\n  } catch (_error) {}\\n\\n  (window.brit != null ? window.brit : window.brit = {}).config = {\\n    debug: false,\\n    dialogs: {\\n      subscribe: {\\n        show_after: [2, \\'visits\\']\\n      }\\n    },\\n    version: \"f4cd5da\",\\n    cookie_prefix: cookie_prefix,\\n    is_ssl: (location.protocol === \\'https:\\'),\\n    root: \"//www.brit.co\",\\n    root_element: \"#page > [class*=\\'container\\']:first-child\",\\n    app_url: \"//www.brit.co\",\\n    app_ssl_url: set_url_scheme(\"//www.brit.co\", \"https\"),\\n    api_url: \"//www.brit.co/api/v1/\",\\n    api_version: 2.1,\\n    wp_site_url: \"//www.brit.co\",\\n    wp_template_directory: \"http:\\\\/\\\\/www.brit.co\\\\/wp-content\\\\/themes\\\\/britco-responsive\",\\n    path: \"/\",\\n    user: user_id,\\n    user_id: user_id,\\n    sentry_dsn: \"https://c21319d0201741f3bc6afa5b4e3a6ede@app.getsentry.com/6474\",\\n    fb_app_permissions: \"email\",\\n    namespace: \"brit\",\\n    cookies: {\\n      \\'newsletter_signup_complete\\': \\'newsletter_signup_complete\\',\\n      \\'newsletter_signup_abandoned\\': cookie_prefix + \\'newsletter_signup_abandoned\\'\\n    }\\n  };\\n})();\\n    </script>\\n\\n    <!-- Google Tag Manager -->\\n    <noscript><iframe src=\"//www.googletagmanager.com/ns.html?id=GTM-T2NTVZ\"\\n    height=\"0\" width=\"0\" style=\"display:none;visibility:hidden\"></iframe></noscript>\\n    <script pagespeed_no_defer=\"\">(function(w,d,s,l,i){w[l]=w[l]||[];w[l].push({\\'gtm.start\\':\\n    new Date().getTime(),event:\\'gtm.js\\'});var f=d.getElementsByTagName(s)[0],\\n    j=d.createElement(s),dl=l!=\\'dataLayer\\'?\\'&l=\\'+l:\\'\\';j.async=true;j.src=\\n    \\'//www.googletagmanager.com/gtm.js?id=\\'+i+dl;f.parentNode.insertBefore(j,f);\\n    })(window,document,\\'script\\',\\'dataLayer\\',\\'GTM-T2NTVZ\\');</script>\\n    <!-- End Google Tag Manager -->\\n  <div id=\"page\">\\n<div class=\"container-push search container-fluid\">\\n<script type=\"text/template\" id=\"template-mobile-overlay-default\">\\n\\t<div class=\"overlay-mobile\">\\n\\t\\t<div class=\"overlay-top\">\\n\\t\\t\\t<%= $(\".block-user-actions\").get(0).outerHTML %>\\n\\t\\t\\t<span class=\"close-hamburger\">\\n\\t\\t\\t\\t<span class=\"icon-ui-close\"></span>\\n\\t\\t\\t</span>\\n\\t\\t</div>\\n\\t\\t<ul class=\"overlay-navigation\">\\n\\n\\t\\t\\t<li class=\"row-tall navigation-explore\">\\n\\t\\t\\t\\t<%= $(\".navigation-explore > .title\").get(0).outerHTML %>\\n\\t\\t\\t\\t<%= $(\\'ul.list-categories\\').get(0).outerHTML %>\\n\\t\\t\\t</li>\\n\\n\\t\\t\\t<li class=\"navigation-news\">\\n\\t\\t\\t\\t<%= $(\".navigation-news > .title\").get(0).outerHTML %>\\n\\t\\t\\t</li>\\n\\n\\t\\t\\t<li class=\"navigation-make\">\\n\\t\\t\\t\\t<%= $(\".navigation-make > .title\").get(0).outerHTML %>\\n\\t\\t\\t</li>\\n\\n\\t\\t\\t<li class=\"row-tall navigation-explore navigation-learn\">\\n\\t\\t\\t\\t<%= $(\".navigation-learn > .title\").get(0).outerHTML %>\\n                <%= $(\\'ul.class-categories\\').get(0).outerHTML %>\\n\\t\\t\\t</li>\\n\\n\\t\\t\\t<li class=\"row-tall navigation-shop navigation-explore\">\\n\\t\\t\\t\\t<%= $(\".navigation-shop > .title\").get(0).outerHTML %>\\n\\t\\t\\t</li>\\n\\n\\t\\t\\t<li class=\"row-small\">\\n\\t\\t\\t\\t<%= $(\\'.cell-app\\').get(0).outerHTML %>\\n\\t\\t\\t</li>\\n\\n\\t\\t\\t<li class=\"row-small\">\\n\\t\\t\\t\\t<%= $(\\'.cell-about\\').get(0).outerHTML %>\\n\\t\\t\\t</li>\\n\\t\\t</ul>\\n\\t\\t<footer>\\n\\t\\t\\t<li class=\"row-tall\">\\n\\t\\t\\t\\t<%= $(\\'.cell-social\\').get(0).outerHTML %>\\n\\t\\t\\t</li>\\n\\t\\t\\t<li class=\"row-tall\">\\n\\t\\t\\t\\t<%= $(\\'.cell-terms\\').get(0).outerHTML %>\\n\\t\\t\\t</li>\\n\\t\\t</footer>\\n\\t</div>\\n</script>\\n<div id=\"header\" class=\"\">\\n\\t<div class=\"container container-main inner\">\\n\\t\\t<a href=\"//www.brit.co/\" class=\"logo\"></a>\\n\\t\\t<div class=\"hamburger\">\\n\\t\\t\\t<span class=\"icon-ui-hamburger\"></span>\\n\\t\\t</div>\\n\\t\\t<div id=\"header-right\">\\n\\t\\t\\t<div class=\"block block-search\">\\n\\t\\t\\t\\t<form method=\"get\" id=\"searchform\" action=\"//www.brit.co/\" class=\"search-form\">\\n\\t\\t\\t\\t\\t<div id=\"block-search-toggle\" data-toggle=\".block-search .fieldset\">\\n\\t\\t\\t\\t\\t\\t<span class=\"icon-ui-search block-search-icon\"></span>\\n\\t\\t\\t\\t\\t</div>\\n\\t\\t\\t\\t\\t<div class=\"fieldset\">\\n\\t\\t\\t\\t\\t\\t<div class=\"inner\">\\n\\t\\t\\t\\t\\t\\t\\t<input type=\"text\" name=\"s\" placeholder=\"Search Brit + Co\" value=\"\" />\\n\\t\\t\\t\\t\\t\\t\\t<input type=\"reset\" value=\"Reset\" id=\"block-search-reset\" />\\n\\t\\t\\t\\t\\t\\t\\t<label for=\"block-search-reset\">\\n\\t\\t\\t\\t\\t\\t\\t\\t\\t<span class=\"icon-ui-close\"></span>\\n\\t\\t\\t\\t\\t\\t\\t</label>\\n\\t\\t\\t\\t\\t\\t</div>\\n\\t\\t\\t\\t\\t</div>\\n\\t\\t\\t\\t</form>\\n\\t\\t\\t</div>\\n\\t\\t\\t<div class=\"block block-cart\">\\n\\t\\t\\t\\t<a class=\"cart-url\" href=\"https://www.brit.co/shop/basket/\">\\n\\t\\t\\t\\t\\t<span class=\"icon-ui-cart\"></span>\\n\\t\\t\\t\\t\\t<span class=\"cart-item-count\" data-count=\"\">\\n\\t\\t\\t\\t\\t\\t\\n\\t\\t\\t\\t\\t</span>\\n\\t\\t\\t\\t</a>\\n\\t\\t\\t</div>\\n\\t\\t\\t<div class=\"block block-user-actions\">\\n\\t\\t\\t\\t<div class=\"default\">\\n\\t\\t\\t\\t\\t<div class=\"dropdown-container\">\\n \\t<div class=\"dropdown dropdown-arrow-top-right\">\\n \\t\\t<div class=\"dropdown-adjacent\">\\n \\t\\t\\t<span\\n \\t\\t\\t\\tclass=\"icon-ui-profile\"\\n \\t\\t\\t>\\n \\t\\t\\t</span>\\n \\t\\t</div>\\n \\t\\t<ul>\\n \\t\\t\\t\\t<li><a href=\"//www.brit.co/auth/signin/\">Log in</a></li>\\n \\t\\t\\t\\t<li><a href=\"//www.brit.co/auth/signup/\">Sign Up</a></li>\\n \\t\\t</ul>\\n \\t</div>\\n </div>\\n <div class=\"list-flat-container\">\\n \\t<span class=\"icon-ui-profile\"></span>\\n \\t<ul class=\"list-flat\">\\n \\t\\t\\t<li><a href=\"//www.brit.co/auth/signin/\" target=\"_blank\">Log in</a></li>\\n \\t\\t\\t<li><a href=\"//www.brit.co/auth/signup/\" target=\"_blank\">Sign Up</a></li>\\n \\t</ul>\\n </div>\\n\\t\\t\\t\\t</div>\\n\\t\\t\\t</div>\\n\\t\\t</div>\\n\\t\\t<div id=\"header-center\">\\n  <ul class=\"header-navigation\">\\n    <li class=\"navigation-explore\">\\n      <div class=\"title\">Categories</div>\\n      <div class=\"card\">\\n        <div class=\"inner\">\\n          <div class=\"inner\">\\n            <div class=\"menu-explore-container\"><ul id=\"menu-explore\" class=\"list-categories\"><li id=\"menu-item-1179921\" class=\"menu-item menu-item-type-taxonomy menu-item-object-category menu-item-1179921\"><a href=\"//www.brit.co/category/beauty/\" class=\"beauty\"><span class=\"icon-nav-beauty\"></span> <span class=\"cat-name\">Beauty</span></a></li>\\n<li id=\"menu-item-954290\" class=\"menu-item menu-item-type-taxonomy menu-item-object-category menu-item-954290\"><a href=\"//www.brit.co/category/tutorials/\" class=\"diy\"><span class=\"icon-nav-diy\"></span> <span class=\"cat-name\">DIY</span></a></li>\\n<li id=\"menu-item-954282\" class=\"menu-item menu-item-type-taxonomy menu-item-object-category menu-item-954282\"><a href=\"//www.brit.co/category/living/\" class=\"home\"><span class=\"icon-nav-home\"></span> <span class=\"cat-name\">Home</span></a></li>\\n<li id=\"menu-item-1218428\" class=\"menu-item menu-item-type-taxonomy menu-item-object-category menu-item-1218428\"><a href=\"//www.brit.co/category/news/\" class=\"news\"><span class=\"icon-nav-news\"></span> <span class=\"cat-name\">News</span></a></li>\\n<li id=\"menu-item-1152781\" class=\"menu-item menu-item-type-taxonomy menu-item-object-category menu-item-1152781\"><a href=\"//www.brit.co/category/brits-blog/\" class=\"britsblog\"><span class=\"icon-ui-related\"></span> <span class=\"cat-name\">Brit&#8217;s Blog</span></a></li>\\n<li id=\"menu-item-954287\" class=\"menu-item menu-item-type-taxonomy menu-item-object-category menu-item-954287\"><a href=\"//www.brit.co/category/food/\" class=\"food\"><span class=\"icon-nav-food\"></span> <span class=\"cat-name\">Food</span></a></li>\\n<li id=\"menu-item-1218427\" class=\"menu-item menu-item-type-taxonomy menu-item-object-category menu-item-1218427\"><a href=\"//www.brit.co/category/lifestyle/\" class=\"lifestyle\"><span class=\"icon-nav-summer\"></span> <span class=\"cat-name\">Lifestyle</span></a></li>\\n<li id=\"menu-item-1044201\" class=\"menu-item menu-item-type-taxonomy menu-item-object-category menu-item-1044201\"><a href=\"//www.brit.co/category/style/\" class=\"style\"><span class=\"icon-nav-style\"></span> <span class=\"cat-name\">Style</span></a></li>\\n<li id=\"menu-item-1218446\" class=\"menu-item menu-item-type-taxonomy menu-item-object-category menu-item-1218446\"><a href=\"//www.brit.co/category/careers/\" class=\"career\"><span class=\"icon-nav-creativity\"></span> <span class=\"cat-name\">Career</span></a></li>\\n<li id=\"menu-item-1283821\" class=\"menu-item menu-item-type-taxonomy menu-item-object-category menu-item-1283821\"><a href=\"//www.brit.co/category/halloween/\" class=\"halloween\"><span class=\"icon-nav-halloween\"></span> <span class=\"cat-name\">Halloween</span></a></li>\\n<li id=\"menu-item-954286\" class=\"menu-item menu-item-type-taxonomy menu-item-object-category menu-item-954286\"><a href=\"//www.brit.co/category/kids/\" class=\"moms\"><span class=\"icon-nav-kids\"></span> <span class=\"cat-name\">Moms</span></a></li>\\n<li id=\"menu-item-1149154\" class=\"menu-item menu-item-type-taxonomy menu-item-object-category menu-item-1149154\"><a href=\"//www.brit.co/category/weddings/\" class=\"weddings\"><span class=\"icon-nav-weddings\"></span> <span class=\"cat-name\">Weddings</span></a></li>\\n</ul></div>\\n            <footer>\\n              <div class=\"line\">\\n                <div class=\"cell cell-app\">\\n                  <a href=\"//www.brit.co/app/\" target=\"_blank\"> <span class=\"icon-nav-mobile\"></span> Get the App </a>\\n                </div>\\n                <div class=\"cell cell-about\"> <a href=\"//www.brit.co/about/\" target=\"_blank\">About</a> </div>\\n                <div class=\"cell cell-social\">\\n                  <ul>\\n                    <li>\\n                      <a href=\"http://www.facebook.com/britandco\" target=\"_blank\"> <span class=\"icon-social-facebook\"></span> </a>\\n                    </li>\\n                    <li>\\n                      <a href=\"http://twitter.com/britandco/\" target=\"_blank\"> <span class=\"icon-social-twitter\"></span> twitter </a>\\n                    </li>\\n                    <li>\\n                      <a href=\"http://pinterest.com/britandco/\" target=\"_blank\"> <span class=\"icon-social-pinterest\"></span> pinterest </a>\\n                    </li>\\n                    <li>\\n                      <a href=\"http://www.youtube.com/britandco/\" target=\"_blank\"> <span class=\"icon-social-youtube\"></span> youtube </a>\\n                    </li>\\n                    <li>\\n                      <a href=\"https://plus.google.com/+brit/\" target=\"_blank\"> <span class=\"icon-social-gplus\"></span> google + </a>\\n                    </li>\\n                    <li>\\n                      <a href=\"//www.brit.co/feed/\" target=\"_blank\"> <span class=\"icon-social-rss\"></span> RSS Feed </a>\\n                    </li>\\n                  </ul>\\n                </div>\\n              </div>\\n              <div class=\"line line-condensed\">\\n                <div class=\"cell cell-terms\">\\n                  <ul class=\"external-terms\">\\n                    <li><a href=\"//www.brit.co/terms-of-use/\" target=\"_blank\">Terms of Service</a></li>\\n                    <li><a href=\"//www.brit.co/privacy/\" target=\"_blank\">Privacy Policy</a></li>\\n                  </ul> <span class=\"copyright\">\\n                      &copy; 2014 Brit Media, Inc. All rights reserved.\\n                    </span> </div>\\n              </div>\\n            </footer>\\n          </div>\\n        </div>\\n        <footer></footer>\\n      </div>\\n    </li>\\n    <li class=\"navigation-news\"> <a href=\"//www.brit.co/category/news/\" class=\"title\">News</a> </li>\\n    <li class=\"navigation-make hidden-sm\"> <a href=\"//www.brit.co/video/\" class=\"title\">Videos</a> </li>\\n    <li class=\"navigation-explore navigation-learn\"> <a href=\"https://www.brit.co/shop/classes/\" class=\"title\">Classes</a>\\n      <div class=\"card\">\\n        <div class=\"inner\">\\n          <div class=\"inner\">\\n            <ul class=\"class-categories list-categories\">\\n    <li>\\n        <a class=\"\" href=\"https://www.brit.co/shop/classes\" title=\"New + Popular\" target=\"_blank\">\\n            <span class=\"cat-name\">New + Popular</span>\\n        </a>\\n    </li>\\n    <li>\\n        <a class=\"\" href=\"https://www.brit.co/shop/classes/online-classes/art-design_538/\" title=\"Art + Design\" target=\"_blank\">\\n            <span class=\"cat-name\">Art + Design</span>\\n        </a>\\n    </li>\\n    <li>\\n        <a class=\"\" href=\"https://www.brit.co/shop/classes/online-classes/tech_543/\" title=\"Business + Tech\" target=\"_blank\">\\n            <span class=\"cat-name\">Business + Tech</span>\\n        </a>\\n    </li>\\n    <li>\\n        <a class=\"\" href=\"https://www.brit.co/shop/classes/online-classes/needle-thread_539/\" title=\"Needle + Thread\" target=\"_blank\">\\n            <span class=\"cat-name\">Needle + Thread</span>\\n        </a>\\n    </li>\\n    <li>\\n        <a class=\"\" href=\"https://www.brit.co/shop/classes/online-classes/home-decor_540/\" title=\"Home + Style\" target=\"_blank\">\\n            <span class=\"cat-name\">Home + Style</span>\\n        </a>\\n    </li>\\n    <li>\\n        <a class=\"\" href=\"https://www.brit.co/shop/classes/online-classes/free_577/\" title=\"Free Classes\" target=\"_blank\">\\n            <span class=\"cat-name\">Free Classes</span>\\n        </a>\\n    </li>\\n\\n    <li>\\n        <a class=\"\" href=\"//www.brit.co//shop/accounts/my-classes\" title=\"My Classes\">\\n            <span class=\"cat-name\">My Classes</span>\\n        </a>\\n    </li>\\n</ul>\\n\\n          </div>\\n        </div>\\n        <footer></footer>\\n      </div>\\n    </li>\\n    <li class=\"navigation-explore navigation-shop\">\\n      <a class=\"title\" href=\"https://www.brit.co/shop/\">Shop</a>\\n    </li>\\n  </ul>\\n</div>\\n\\n\\t</div>\\n</div>\\n\\n<div class=\"container-fluid container-hp\">\\n  <div class=\"page-search-top\">\\n    <div class=\"row\">\\n      <div class=\"col-lg-6\">\\n        <div class=\"page-search-form\">\\n          <form role=\"search\" method=\"get\" id=\"searchform\" action=\"//www.brit.co\">\\n            <span class=\"icon-ui-search block-search-icon\"></span>\\n            <div class=\"fieldset\">\\n              <div class=\"inner\">\\n                <input type=\"text\" value=\"succulents\" placeholder=\"Search Brit + Co\" name=\"s\" id=\"s\">\\n                <input type=\"reset\" value=\"reset\" id=\"block-search-reset\">\\n                <label for=\"block-search-reset\" onclick=\"this.form.reset();\"> <span class=\"icon-ui-close\"></span> </label>\\n              </div>\\n            </div>\\n          </form>\\n        </div>\\n      </div>\\n      <div class=\"col-lg-6\">\\n        <div class=\"search-breadcrumb\">\\n  <div class=\"search-result-count\">306 results <span class=\"hidden-lg hidden-md hidden-sm\">for succulents</span></div>\\n  <div class=\"search-sort\">Sort by:\\n    <a class=\"active\" href=\"//www.brit.co?s=succulents\">Best Match</a>\\n    | <a class=\"\" href=\"//www.brit.co?s=succulents&#038;orderby=post_date&#038;order=desc\">Recent</a>\\n    | <a class=\"\" href=\"//www.brit.co?s=succulents&#038;orderby=price&#038;order=asc&#038;minprice=0\">Least Expensive</a>\\n    | <a class=\"\" href=\"//www.brit.co?s=succulents&#038;orderby=price&#038;order=desc&#038;minprice=0\">Most Expensive</a>\\n  </div>\\n  <div class=\"clearfix\"></div>\\n</div>\\n      </div>\\n    </div>\\n  </div>\\n</div>\\n\\n\\n\\t<div class=\"content-grid-container\">\\n\\t\\t<div>\\n\\t\\t\\t<div>\\n\\t\\t\\t\\t\\n<div class=\"container-fluid container-hp container-cards\">\\n    <div class=\"row\">\\n    <div class=\" col-md-3 col-sm-6 f-card card-post\" data-card-legacy data-json=\\'{\"id\":712411,\"slug\":\"succulent-wedding-ideas\",\"url\":\"http:\\\\/\\\\/www.brit.co\\\\/succulent-wedding-ideas\\\\/\",\"image\":\"//www.brit.co/wp-content/uploads/2014/07/featured-image47.jpg?fit=crop&#038;w=500&#038;h=500\",\"post_type\":\"post\",\"content_type\":\"post\",\"tags\":[\"succulents\"]}\\' id=\"post-712411\">\\n\\n\\t<a href=\"//www.brit.co/succulent-wedding-ideas/\" class=\"container-media clickthrough\">\\n\\n\\t\\t<div class=\"item-media\">\\n\\n\\t\\t\\t<img src=\"https://images.britcdn.com/wp-content/uploads/2014/07/featured-image47.jpg?fit=crop&#038;w=311&#038;h=311\">\\n\\n\\t\\t</div>\\n\\n\\t</a>\\n\\n\\t<div class=\"container-information\">\\n\\n\\n\\t\\t\\t\\n\\n\\t\\t\\t\\t<a class=\"label-category\" href=\"//www.brit.co/category/lifestyle/events/\">\\n\\n\\t\\t\\t\\n\\n\\t\\t\\t\\t<span>\\n\\n\\t\\t\\t\\t\\tParty\\n\\n\\t\\t\\t\\t</span>\\n\\n\\t\\t\\t\\n\\n\\t\\t\\t\\t</a>\\n\\n\\t\\t\\t\\n\\n\\t\\t<a class=\"label-title clickthrough\" href=\"//www.brit.co/succulent-wedding-ideas/\">\\n\\n\\t\\t\\t<span>\\n\\n\\t\\t\\t\\t42 Creative Ways to Use Succulents in Your Wedding\\n\\n\\t\\t\\t</span>\\n\\n\\t\\t</a>\\n\\n\\t\\t<span class=\"container-byline\">\\n\\n\\t\\t\\t<a class=\"label-user\" href=\"//www.brit.co/author/hwalrath/\">\\n\\n\\t\\t\\t\\t<span>Heather Walrath</span>\\n\\n\\t\\t\\t</a>\\n\\n\\t\\t\\t<a class=\"label-date clickthrough\" href=\"//www.brit.co/succulent-wedding-ideas/\">\\n\\n\\t\\t\\t\\t<time datetime=\"2014-07-27T11:20:37-07:00\">July 27, 2014</time>\\n\\n\\t\\t\\t</a>\\n\\n\\t\\t</span>\\n\\n\\t\\t<a href=\"//www.brit.co/succulent-wedding-ideas/\" class=\"click-area clickthrough\"></a>\\n\\n\\t</div>\\n\\n  \\n\\n</div>\\n\\n\\n<div class=\" col-md-3 col-sm-6 f-card card-post\" data-card-legacy data-json=\\'{\"id\":1022423,\"slug\":\"succulent-plants\",\"url\":\"http:\\\\/\\\\/www.brit.co\\\\/succulent-plants\\\\/\",\"image\":\"//www.brit.co/wp-content/uploads/2015/10/Succulent-Cork-Planter2.jpg?fit=crop&#038;w=500&#038;h=500\",\"post_type\":\"post\",\"content_type\":\"post\",\"tags\":[\"snapguide\",\"succulents\"]}\\' id=\"post-1022423\">\\n\\n\\t<a href=\"//www.brit.co/succulent-plants/\" class=\"container-media clickthrough\">\\n\\n\\t\\t<div class=\"item-media\">\\n\\n\\t\\t\\t<img src=\"https://images.britcdn.com/wp-content/uploads/2015/10/Succulent-Cork-Planter2.jpg?fit=crop&#038;w=311&#038;h=311\">\\n\\n\\t\\t</div>\\n\\n\\t</a>\\n\\n\\t<div class=\"container-information\">\\n\\n\\n\\t\\t\\t\\n\\n\\t\\t\\t\\t<a class=\"label-category\" href=\"//www.brit.co/category/living/\">\\n\\n\\t\\t\\t\\n\\n\\t\\t\\t\\t<span>\\n\\n\\t\\t\\t\\t\\tHome\\n\\n\\t\\t\\t\\t</span>\\n\\n\\t\\t\\t\\n\\n\\t\\t\\t\\t</a>\\n\\n\\t\\t\\t\\n\\n\\t\\t<a class=\"label-title clickthrough\" href=\"//www.brit.co/succulent-plants/\">\\n\\n\\t\\t\\t<span>\\n\\n\\t\\t\\t\\t11 Unique Ways to Use Succulents in Your Home\\n\\n\\t\\t\\t</span>\\n\\n\\t\\t</a>\\n\\n\\t\\t<span class=\"container-byline\">\\n\\n\\t\\t\\t<a class=\"label-user\" href=\"//www.brit.co/author/brenda/\">\\n\\n\\t\\t\\t\\t<span>Brenda Lawrence</span>\\n\\n\\t\\t\\t</a>\\n\\n\\t\\t\\t<a class=\"label-date clickthrough\" href=\"//www.brit.co/succulent-plants/\">\\n\\n\\t\\t\\t\\t<time datetime=\"2015-10-23T15:50:29-07:00\">October 23, 2015</time>\\n\\n\\t\\t\\t</a>\\n\\n\\t\\t</span>\\n\\n\\t\\t<a href=\"//www.brit.co/succulent-plants/\" class=\"click-area clickthrough\"></a>\\n\\n\\t</div>\\n\\n  \\n\\n</div>\\n\\n\\n<div class=\" col-md-3 col-sm-6 f-card card-post\" data-card-legacy data-json=\\'{\"id\":624379,\"slug\":\"succulent-planters\",\"url\":\"http:\\\\/\\\\/www.brit.co\\\\/succulent-planters\\\\/\",\"image\":\"//www.brit.co/wp-content/uploads/2014/03/14-Dino11.jpg?fit=crop&#038;w=500&#038;h=500\",\"post_type\":\"post\",\"content_type\":\"post\",\"tags\":[\"interior-roundup\",\"living-roundup\",\"succulents\"]}\\' id=\"post-624379\">\\n\\n\\t<a href=\"//www.brit.co/succulent-planters/\" class=\"container-media clickthrough\">\\n\\n\\t\\t<div class=\"item-media\">\\n\\n\\t\\t\\t<img src=\"https://images.britcdn.com/wp-content/uploads/2014/03/14-Dino11.jpg?fit=crop&#038;w=311&#038;h=311\">\\n\\n\\t\\t</div>\\n\\n\\t</a>\\n\\n\\t<div class=\"container-information\">\\n\\n\\n\\t\\t\\t\\n\\n\\t\\t\\t\\t<a class=\"label-category\" href=\"//www.brit.co/category/living/\">\\n\\n\\t\\t\\t\\n\\n\\t\\t\\t\\t<span>\\n\\n\\t\\t\\t\\t\\tHome\\n\\n\\t\\t\\t\\t</span>\\n\\n\\t\\t\\t\\n\\n\\t\\t\\t\\t</a>\\n\\n\\t\\t\\t\\n\\n\\t\\t<a class=\"label-title clickthrough\" href=\"//www.brit.co/succulent-planters/\">\\n\\n\\t\\t\\t<span>\\n\\n\\t\\t\\t\\t20 Ways to Spruce Up Your Decor With Succulents\\n\\n\\t\\t\\t</span>\\n\\n\\t\\t</a>\\n\\n\\t\\t<span class=\"container-byline\">\\n\\n\\t\\t\\t<a class=\"label-user\" href=\"//www.brit.co/author/kcunningham/\">\\n\\n\\t\\t\\t\\t<span>Katelan Cunningham</span>\\n\\n\\t\\t\\t</a>\\n\\n\\t\\t\\t<a class=\"label-date clickthrough\" href=\"//www.brit.co/succulent-planters/\">\\n\\n\\t\\t\\t\\t<time datetime=\"2014-04-06T09:50:21-07:00\">April 6, 2014</time>\\n\\n\\t\\t\\t</a>\\n\\n\\t\\t</span>\\n\\n\\t\\t<a href=\"//www.brit.co/succulent-planters/\" class=\"click-area clickthrough\"></a>\\n\\n\\t</div>\\n\\n  \\n\\n</div>\\n\\n\\n<div class=\" col-md-3 col-sm-6 f-card card-post\" data-card-legacy data-json=\\'{\"id\":1217348,\"slug\":\"succulent-container-gardens\",\"url\":\"http:\\\\/\\\\/www.brit.co\\\\/succulent-container-gardens\\\\/\",\"image\":\"//www.brit.co/wp-content/uploads/2016/06/Succulent-Berry-Basket.jpg?fit=crop&#038;w=500&#038;h=500\",\"post_type\":\"post\",\"content_type\":\"post\",\"tags\":[\"diy-projects\",\"garden\",\"home-decor\",\"succulents\"]}\\' id=\"post-1217348\">\\n\\n\\t<a href=\"//www.brit.co/succulent-container-gardens/\" class=\"container-media clickthrough\">\\n\\n\\t\\t<div class=\"item-media\">\\n\\n\\t\\t\\t<img src=\"https://images.britcdn.com/wp-content/uploads/2016/06/Succulent-Berry-Basket.jpg?fit=crop&#038;w=311&#038;h=311\">\\n\\n\\t\\t</div>\\n\\n\\t</a>\\n\\n\\t<div class=\"container-information\">\\n\\n\\n\\t\\t\\t\\n\\n\\t\\t\\t\\t<a class=\"label-category\" href=\"//www.brit.co/category/living/\">\\n\\n\\t\\t\\t\\n\\n\\t\\t\\t\\t<span>\\n\\n\\t\\t\\t\\t\\tHome\\n\\n\\t\\t\\t\\t</span>\\n\\n\\t\\t\\t\\n\\n\\t\\t\\t\\t</a>\\n\\n\\t\\t\\t\\n\\n\\t\\t<a class=\"label-title clickthrough\" href=\"//www.brit.co/succulent-container-gardens/\">\\n\\n\\t\\t\\t<span>\\n\\n\\t\\t\\t\\t14 Creative Succulent Container Gardens to DIY or Buy Now\\n\\n\\t\\t\\t</span>\\n\\n\\t\\t</a>\\n\\n\\t\\t<span class=\"container-byline\">\\n\\n\\t\\t\\t<a class=\"label-user\" href=\"//www.brit.co/author/glee/\">\\n\\n\\t\\t\\t\\t<span>Grace Lee</span>\\n\\n\\t\\t\\t</a>\\n\\n\\t\\t\\t<a class=\"label-date clickthrough\" href=\"//www.brit.co/succulent-container-gardens/\">\\n\\n\\t\\t\\t\\t<time datetime=\"2016-06-08T15:50:28-07:00\">June 8, 2016</time>\\n\\n\\t\\t\\t</a>\\n\\n\\t\\t</span>\\n\\n\\t\\t<a href=\"//www.brit.co/succulent-container-gardens/\" class=\"click-area clickthrough\"></a>\\n\\n\\t</div>\\n\\n  \\n\\n</div>\\n\\n\\n<div class=\" col-md-3 col-sm-6 f-card card-post\" data-card-legacy data-json=\\'{\"id\":906837,\"slug\":\"succulent-products\",\"url\":\"http:\\\\/\\\\/www.brit.co\\\\/succulent-products\\\\/\",\"image\":\"//www.brit.co/wp-content/uploads/2015/04/il_570xN.628912385_deqn.jpg?fit=crop&#038;w=500&#038;h=500\",\"post_type\":\"post\",\"content_type\":\"post\",\"tags\":[\"accessories\",\"dress\",\"earrings\",\"greeting-cards\",\"illustration\",\"interior-decor\",\"jewelry\",\"succulents\",\"watercolor\"]}\\' id=\"post-906837\">\\n\\n\\t<a href=\"//www.brit.co/succulent-products/\" class=\"container-media clickthrough\">\\n\\n\\t\\t<div class=\"item-media\">\\n\\n\\t\\t\\t<img src=\"https://images.britcdn.com/wp-content/uploads/2015/04/il_570xN.628912385_deqn.jpg?fit=crop&#038;w=311&#038;h=311\">\\n\\n\\t\\t</div>\\n\\n\\t</a>\\n\\n\\t<div class=\"container-information\">\\n\\n\\n\\t\\t\\t\\n\\n\\t\\t\\t\\t<a class=\"label-category\" href=\"//www.brit.co/category/living/\">\\n\\n\\t\\t\\t\\n\\n\\t\\t\\t\\t<span>\\n\\n\\t\\t\\t\\t\\tHome\\n\\n\\t\\t\\t\\t</span>\\n\\n\\t\\t\\t\\n\\n\\t\\t\\t\\t</a>\\n\\n\\t\\t\\t\\n\\n\\t\\t<a class=\"label-title clickthrough\" href=\"//www.brit.co/succulent-products/\">\\n\\n\\t\\t\\t<span>\\n\\n\\t\\t\\t\\t20 Ways to Add Succulents to Your Life Without Gardening\\n\\n\\t\\t\\t</span>\\n\\n\\t\\t</a>\\n\\n\\t\\t<span class=\"container-byline\">\\n\\n\\t\\t\\t<a class=\"label-user\" href=\"//www.brit.co/author/lelsmore/\">\\n\\n\\t\\t\\t\\t<span>Leah Elsmore</span>\\n\\n\\t\\t\\t</a>\\n\\n\\t\\t\\t<a class=\"label-date clickthrough\" href=\"//www.brit.co/succulent-products/\">\\n\\n\\t\\t\\t\\t<time datetime=\"2015-05-05T17:50:39-07:00\">May 5, 2015</time>\\n\\n\\t\\t\\t</a>\\n\\n\\t\\t</span>\\n\\n\\t\\t<a href=\"//www.brit.co/succulent-products/\" class=\"click-area clickthrough\"></a>\\n\\n\\t</div>\\n\\n  \\n\\n</div>\\n\\n\\n<div class=\" col-md-3 col-sm-6 f-card card-post\" data-card-legacy data-json=\\'{\"id\":1080996,\"slug\":\"diy-succulent-wreath\",\"url\":\"http:\\\\/\\\\/www.brit.co\\\\/diy-succulent-wreath\\\\/\",\"image\":\"//www.brit.co/wp-content/uploads/2015/12/0-Wreath-Square.jpg?fit=crop&#038;w=500&#038;h=500\",\"post_type\":\"post\",\"content_type\":\"post\",\"tags\":[\"succulents\",\"wreath\"]}\\' id=\"post-1080996\">\\n\\n\\t<a href=\"//www.brit.co/diy-succulent-wreath/\" class=\"container-media clickthrough\">\\n\\n\\t\\t<div class=\"item-media\">\\n\\n\\t\\t\\t<img src=\"https://images.britcdn.com/wp-content/uploads/2015/12/0-Wreath-Square.jpg?fit=crop&#038;w=311&#038;h=311\">\\n\\n\\t\\t</div>\\n\\n\\t</a>\\n\\n\\t<div class=\"container-information\">\\n\\n\\n\\t\\t\\t\\n\\n\\t\\t\\t\\t<a class=\"label-category\" href=\"//www.brit.co/category/holidays/holiday-decor/\">\\n\\n\\t\\t\\t\\n\\n\\t\\t\\t\\t<span>\\n\\n\\t\\t\\t\\t\\tHoliday Decor\\n\\n\\t\\t\\t\\t</span>\\n\\n\\t\\t\\t\\n\\n\\t\\t\\t\\t</a>\\n\\n\\t\\t\\t\\n\\n\\t\\t<a class=\"label-title clickthrough\" href=\"//www.brit.co/diy-succulent-wreath/\">\\n\\n\\t\\t\\t<span>\\n\\n\\t\\t\\t\\tHow to Make a Succulent Wreath You Can Hang All Year Round\\n\\n\\t\\t\\t</span>\\n\\n\\t\\t</a>\\n\\n\\t\\t<span class=\"container-byline\">\\n\\n\\t\\t\\t<a class=\"label-user\" href=\"//www.brit.co/author/madeline/\">\\n\\n\\t\\t\\t\\t<span>Madeline Bachelder</span>\\n\\n\\t\\t\\t</a>\\n\\n\\t\\t\\t<a class=\"label-date clickthrough\" href=\"//www.brit.co/diy-succulent-wreath/\">\\n\\n\\t\\t\\t\\t<time datetime=\"2015-12-23T11:20:00-07:00\">December 23, 2015</time>\\n\\n\\t\\t\\t</a>\\n\\n\\t\\t</span>\\n\\n\\t\\t<a href=\"//www.brit.co/diy-succulent-wreath/\" class=\"click-area clickthrough\"></a>\\n\\n\\t</div>\\n\\n  \\n\\n</div>\\n\\n\\n<div class=\" col-md-3 col-sm-6 f-card card-pick\" data-card-legacy data-json=\\'{\"id\":597256,\"slug\":\"genius-use-succulents-as-a-cake-topper\",\"url\":\"http:\\\\/\\\\/www.brit.co\\\\/picks\\\\/genius-use-succulents-as-a-cake-topper\\\\/\",\"image\":\"//www.brit.co/wp-content/uploads/2013/12/external-post-image-6394-Screen-Shot-2013-06-11-at-2.21.19-PM.png?fit=crop&#038;w=500&#038;h=500\",\"post_type\":\"pick\",\"content_type\":\"post\",\"tags\":[]}\\' id=\"post-597256\">\\n\\n\\t<a href=\"//www.brit.co/picks/genius-use-succulents-as-a-cake-topper/\" class=\"container-media clickthrough\">\\n\\n\\t\\t<div class=\"item-media\">\\n\\n\\t\\t\\t<img src=\"https://images.britcdn.com/wp-content/uploads/2013/12/external-post-image-6394-Screen-Shot-2013-06-11-at-2.21.19-PM.png?fit=crop&#038;w=311&#038;h=311\">\\n\\n\\t\\t</div>\\n\\n\\t</a>\\n\\n\\t<div class=\"container-information\">\\n\\n\\n\\t\\t\\t\\n\\n\\t\\t\\t\\t<a class=\"label-category\" href=\"//www.brit.co/category/lifestyle/events/\">\\n\\n\\t\\t\\t\\n\\n\\t\\t\\t\\t<span>\\n\\n\\t\\t\\t\\t\\tParty\\n\\n\\t\\t\\t\\t</span>\\n\\n\\t\\t\\t\\n\\n\\t\\t\\t\\t</a>\\n\\n\\t\\t\\t\\n\\n\\t\\t<a class=\"label-title clickthrough\" href=\"//www.brit.co/picks/genius-use-succulents-as-a-cake-topper/\">\\n\\n\\t\\t\\t<span>\\n\\n\\t\\t\\t\\tGenius! Use Succulents as a Cake Topper\\n\\n\\t\\t\\t</span>\\n\\n\\t\\t</a>\\n\\n\\t\\t<span class=\"container-byline\">\\n\\n\\t\\t\\t<a class=\"label-user\" href=\"//www.brit.co/maker/sugarandcloth-com/\">\\n\\n\\t\\t\\t\\t<span>Sugar &amp;amp; Cloth</span>\\n\\n\\t\\t\\t</a>\\n\\n\\t\\t\\t<a class=\"label-date clickthrough\" href=\"//www.brit.co/picks/genius-use-succulents-as-a-cake-topper/\">\\n\\n\\t\\t\\t\\t<time datetime=\"2013-12-19T11:50:53-07:00\">December 19, 2013</time>\\n\\n\\t\\t\\t</a>\\n\\n\\t\\t</span>\\n\\n\\t\\t<a href=\"//www.brit.co/picks/genius-use-succulents-as-a-cake-topper/\" class=\"click-area clickthrough\"></a>\\n\\n\\t</div>\\n\\n  \\n\\n</div>\\n\\n\\n<div class=\" col-md-3 col-sm-6 f-card card-post\" data-card-legacy data-json=\\'{\"id\":1265284,\"slug\":\"diy-felt-planter-box\",\"url\":\"http:\\\\/\\\\/www.brit.co\\\\/diy-felt-planter-box\\\\/\",\"image\":\"//www.brit.co/wp-content/uploads/2016/07/cover-Felt_Planter_016.jpg?fit=crop&#038;w=500&#038;h=500\",\"post_type\":\"post\",\"content_type\":\"post\",\"tags\":[\"planter\",\"plants\",\"succulents\"]}\\' id=\"post-1265284\">\\n\\n\\t<a href=\"//www.brit.co/diy-felt-planter-box/\" class=\"container-media clickthrough\">\\n\\n\\t\\t<div class=\"item-media\">\\n\\n\\t\\t\\t<img src=\"https://images.britcdn.com/wp-content/uploads/2016/07/cover-Felt_Planter_016.jpg?fit=crop&#038;w=311&#038;h=311\">\\n\\n\\t\\t</div>\\n\\n\\t</a>\\n\\n\\t<div class=\"container-information\">\\n\\n\\n\\t\\t\\t\\n\\n\\t\\t\\t\\t<a class=\"label-category\" href=\"//www.brit.co/category/living/\">\\n\\n\\t\\t\\t\\n\\n\\t\\t\\t\\t<span>\\n\\n\\t\\t\\t\\t\\tHome\\n\\n\\t\\t\\t\\t</span>\\n\\n\\t\\t\\t\\n\\n\\t\\t\\t\\t</a>\\n\\n\\t\\t\\t\\n\\n\\t\\t<a class=\"label-title clickthrough\" href=\"//www.brit.co/diy-felt-planter-box/\">\\n\\n\\t\\t\\t<span>\\n\\n\\t\\t\\t\\tUse Felt to Create a Succulent Planter Box That Will Never Die\\n\\n\\t\\t\\t</span>\\n\\n\\t\\t</a>\\n\\n\\t\\t<span class=\"container-byline\">\\n\\n\\t\\t\\t<a class=\"label-user\" href=\"//www.brit.co/author/kelly_bryden/\">\\n\\n\\t\\t\\t\\t<span>Kelly Bryden</span>\\n\\n\\t\\t\\t</a>\\n\\n\\t\\t\\t<a class=\"label-date clickthrough\" href=\"//www.brit.co/diy-felt-planter-box/\">\\n\\n\\t\\t\\t\\t<time datetime=\"2016-08-01T17:50:15-07:00\">August 1, 2016</time>\\n\\n\\t\\t\\t</a>\\n\\n\\t\\t</span>\\n\\n\\t\\t<a href=\"//www.brit.co/diy-felt-planter-box/\" class=\"click-area clickthrough\"></a>\\n\\n\\t</div>\\n\\n  \\n\\n</div>\\n\\n\\n<div class=\" col-md-3 col-sm-6 f-card card-post\" data-card-legacy data-json=\\'{\"id\":664730,\"slug\":\"succulent-head-wreath\",\"url\":\"http:\\\\/\\\\/www.brit.co\\\\/succulent-head-wreath\\\\/\",\"image\":\"//www.brit.co/wp-content/uploads/2014/05/Roxy_4.jpg?fit=crop&#038;w=500&#038;h=500\",\"post_type\":\"post\",\"content_type\":\"post\",\"tags\":[\"flowers\",\"spring\",\"succulents\",\"wedding-style\"]}\\' id=\"post-664730\">\\n\\n\\t<a href=\"//www.brit.co/succulent-head-wreath/\" class=\"container-media clickthrough\">\\n\\n\\t\\t<div class=\"item-media\">\\n\\n\\t\\t\\t<img src=\"https://images.britcdn.com/wp-content/uploads/2014/05/Roxy_4.jpg?fit=crop&#038;w=311&#038;h=311\">\\n\\n\\t\\t</div>\\n\\n\\t</a>\\n\\n\\t<div class=\"container-information\">\\n\\n\\n\\t\\t\\t\\n\\n\\t\\t\\t\\t<a class=\"label-category\" href=\"//www.brit.co/category/tutorials/\">\\n\\n\\t\\t\\t\\n\\n\\t\\t\\t\\t<span>\\n\\n\\t\\t\\t\\t\\tDIY\\n\\n\\t\\t\\t\\t</span>\\n\\n\\t\\t\\t\\n\\n\\t\\t\\t\\t</a>\\n\\n\\t\\t\\t\\n\\n\\t\\t<a class=\"label-title clickthrough\" href=\"//www.brit.co/succulent-head-wreath/\">\\n\\n\\t\\t\\t<span>\\n\\n\\t\\t\\t\\tSummer Beauty: How to Make a Succulent Flower Crown\\n\\n\\t\\t\\t</span>\\n\\n\\t\\t</a>\\n\\n\\t\\t<span class=\"container-byline\">\\n\\n\\t\\t\\t<a class=\"label-user\" href=\"//www.brit.co/author/roxy/\">\\n\\n\\t\\t\\t\\t<span>Roxy Taghavian</span>\\n\\n\\t\\t\\t</a>\\n\\n\\t\\t\\t<a class=\"label-date clickthrough\" href=\"//www.brit.co/succulent-head-wreath/\">\\n\\n\\t\\t\\t\\t<time datetime=\"2014-05-20T04:50:13-07:00\">May 20, 2014</time>\\n\\n\\t\\t\\t</a>\\n\\n\\t\\t</span>\\n\\n\\t\\t<a href=\"//www.brit.co/succulent-head-wreath/\" class=\"click-area clickthrough\"></a>\\n\\n\\t</div>\\n\\n  \\n\\n</div>\\n\\n\\n<div class=\" col-md-3 col-sm-6 f-card card-post\" data-card-legacy data-json=\\'{\"id\":602345,\"slug\":\"diy-hostess-gifts\",\"url\":\"http:\\\\/\\\\/www.brit.co\\\\/diy-hostess-gifts\\\\/\",\"image\":\"//www.brit.co/wp-content/uploads/2013/12/img_1610.jpg?fit=crop&#038;w=500&#038;h=500\",\"post_type\":\"post\",\"content_type\":\"post\",\"tags\":[\"christmas\",\"diy-roundup\",\"hostess-gifts\"]}\\' id=\"post-602345\">\\n\\n\\t<a href=\"//www.brit.co/diy-hostess-gifts/\" class=\"container-media clickthrough\">\\n\\n\\t\\t<div class=\"item-media\">\\n\\n\\t\\t\\t<img src=\"https://images.britcdn.com/wp-content/uploads/2013/12/img_1610.jpg?fit=crop&#038;w=311&#038;h=311\">\\n\\n\\t\\t</div>\\n\\n\\t</a>\\n\\n\\t<div class=\"container-information\">\\n\\n\\n\\t\\t\\t\\n\\n\\t\\t\\t\\t<a class=\"label-category\" href=\"//www.brit.co/category/living/\">\\n\\n\\t\\t\\t\\n\\n\\t\\t\\t\\t<span>\\n\\n\\t\\t\\t\\t\\tHome\\n\\n\\t\\t\\t\\t</span>\\n\\n\\t\\t\\t\\n\\n\\t\\t\\t\\t</a>\\n\\n\\t\\t\\t\\n\\n\\t\\t<a class=\"label-title clickthrough\" href=\"//www.brit.co/diy-hostess-gifts/\">\\n\\n\\t\\t\\t<span>\\n\\n\\t\\t\\t\\tFrom Cider to Succulents: 12 DIY Gift Ideas for the Hostess\\n\\n\\t\\t\\t</span>\\n\\n\\t\\t</a>\\n\\n\\t\\t<span class=\"container-byline\">\\n\\n\\t\\t\\t<a class=\"label-user\" href=\"//www.brit.co/author/jryzenberg/\">\\n\\n\\t\\t\\t\\t<span>Jesica Ryzenberg</span>\\n\\n\\t\\t\\t</a>\\n\\n\\t\\t\\t<a class=\"label-date clickthrough\" href=\"//www.brit.co/diy-hostess-gifts/\">\\n\\n\\t\\t\\t\\t<time datetime=\"2013-12-22T12:50:23-07:00\">December 22, 2013</time>\\n\\n\\t\\t\\t</a>\\n\\n\\t\\t</span>\\n\\n\\t\\t<a href=\"//www.brit.co/diy-hostess-gifts/\" class=\"click-area clickthrough\"></a>\\n\\n\\t</div>\\n\\n  \\n\\n</div>\\n\\n\\n<div class=\" col-md-3 col-sm-6 f-card card-pick\" data-card-legacy data-json=\\'{\"id\":682491,\"slug\":\"use-colored-sand-to-spruce-up-your-succulents\",\"url\":\"http:\\\\/\\\\/www.brit.co\\\\/picks\\\\/use-colored-sand-to-spruce-up-your-succulents\\\\/\",\"image\":\"//www.brit.co/wp-content/uploads/2014/06/external-post-image-10761-Color3.jpeg?fit=crop&#038;w=500&#038;h=500\",\"post_type\":\"pick\",\"content_type\":\"post\",\"tags\":[]}\\' id=\"post-682491\">\\n\\n\\t<a href=\"//www.brit.co/picks/use-colored-sand-to-spruce-up-your-succulents/\" class=\"container-media clickthrough\">\\n\\n\\t\\t<div class=\"item-media\">\\n\\n\\t\\t\\t<img src=\"https://images.britcdn.com/wp-content/uploads/2014/06/external-post-image-10761-Color3.jpeg?fit=crop&#038;w=311&#038;h=311\">\\n\\n\\t\\t</div>\\n\\n\\t</a>\\n\\n\\t<div class=\"container-information\">\\n\\n\\n\\t\\t\\t\\n\\n\\t\\t\\t\\t<a class=\"label-category\" href=\"//www.brit.co/category/living/\">\\n\\n\\t\\t\\t\\n\\n\\t\\t\\t\\t<span>\\n\\n\\t\\t\\t\\t\\tHome\\n\\n\\t\\t\\t\\t</span>\\n\\n\\t\\t\\t\\n\\n\\t\\t\\t\\t</a>\\n\\n\\t\\t\\t\\n\\n\\t\\t<a class=\"label-title clickthrough\" href=\"//www.brit.co/picks/use-colored-sand-to-spruce-up-your-succulents/\">\\n\\n\\t\\t\\t<span>\\n\\n\\t\\t\\t\\tUse Colored Sand to Spruce Up Your Succulents\\n\\n\\t\\t\\t</span>\\n\\n\\t\\t</a>\\n\\n\\t\\t<span class=\"container-byline\">\\n\\n\\t\\t\\t<a class=\"label-user\" href=\"//www.brit.co/maker/asubtlerevelry-com/\">\\n\\n\\t\\t\\t\\t<span>A Subtle Revelry</span>\\n\\n\\t\\t\\t</a>\\n\\n\\t\\t\\t<a class=\"label-date clickthrough\" href=\"//www.brit.co/picks/use-colored-sand-to-spruce-up-your-succulents/\">\\n\\n\\t\\t\\t\\t<time datetime=\"2014-06-25T15:20:07-07:00\">June 25, 2014</time>\\n\\n\\t\\t\\t</a>\\n\\n\\t\\t</span>\\n\\n\\t\\t<a href=\"//www.brit.co/picks/use-colored-sand-to-spruce-up-your-succulents/\" class=\"click-area clickthrough\"></a>\\n\\n\\t</div>\\n\\n  \\n\\n</div>\\n\\n\\n<div class=\" col-md-3 col-sm-6 f-card card-post\" data-card-legacy data-json=\\'{\"id\":1269981,\"slug\":\"printable-gummy-bears-felt-succulents\",\"url\":\"http:\\\\/\\\\/www.brit.co\\\\/printable-gummy-bears-felt-succulents\\\\/\",\"image\":\"//www.brit.co/wp-content/uploads/2016/08/gummybears_051.jpg?fit=crop&#038;w=500&#038;h=500\",\"post_type\":\"post\",\"content_type\":\"post\",\"tags\":[\"diy-projects\",\"diy-roundup\",\"what-to-make-this-weekend\"]}\\' id=\"post-1269981\">\\n\\n\\t<a href=\"//www.brit.co/printable-gummy-bears-felt-succulents/\" class=\"container-media clickthrough\">\\n\\n\\t\\t<div class=\"item-media\">\\n\\n\\t\\t\\t<img src=\"https://images.britcdn.com/wp-content/uploads/2016/08/gummybears_051.jpg?fit=crop&#038;w=311&#038;h=311\">\\n\\n\\t\\t</div>\\n\\n\\t</a>\\n\\n\\t<div class=\"container-information\">\\n\\n\\n\\t\\t\\t\\n\\n\\t\\t\\t\\t<a class=\"label-category\" href=\"//www.brit.co/category/tutorials/\">\\n\\n\\t\\t\\t\\n\\n\\t\\t\\t\\t<span>\\n\\n\\t\\t\\t\\t\\tDIY\\n\\n\\t\\t\\t\\t</span>\\n\\n\\t\\t\\t\\n\\n\\t\\t\\t\\t</a>\\n\\n\\t\\t\\t\\n\\n\\t\\t<a class=\"label-title clickthrough\" href=\"//www.brit.co/printable-gummy-bears-felt-succulents/\">\\n\\n\\t\\t\\t<span>\\n\\n\\t\\t\\t\\tWhat to Make This Weekend: Printable Gummy Bears, Felt Succulents + More\\n\\n\\t\\t\\t</span>\\n\\n\\t\\t</a>\\n\\n\\t\\t<span class=\"container-byline\">\\n\\n\\t\\t\\t<a class=\"label-user\" href=\"//www.brit.co/author/kthorn/\">\\n\\n\\t\\t\\t\\t<span>Kate Thorn</span>\\n\\n\\t\\t\\t</a>\\n\\n\\t\\t\\t<a class=\"label-date clickthrough\" href=\"//www.brit.co/printable-gummy-bears-felt-succulents/\">\\n\\n\\t\\t\\t\\t<time datetime=\"2016-08-05T07:20:09-07:00\">August 5, 2016</time>\\n\\n\\t\\t\\t</a>\\n\\n\\t\\t</span>\\n\\n\\t\\t<a href=\"//www.brit.co/printable-gummy-bears-felt-succulents/\" class=\"click-area clickthrough\"></a>\\n\\n\\t</div>\\n\\n  \\n\\n</div>\\n\\n\\n<div class=\" col-md-3 col-sm-6 f-card card-post\" data-card-legacy data-json=\\'{\"id\":1137327,\"slug\":\"how-to-garden-succulents\",\"url\":\"http:\\\\/\\\\/www.brit.co\\\\/how-to-garden-succulents\\\\/\",\"image\":\"//www.brit.co/wp-content/uploads/2016/03/SucculentGardening_FEATURE.png?fit=crop&#038;w=500&#038;h=500\",\"post_type\":\"post\",\"content_type\":\"post\",\"tags\":[\"brit-co-shop\",\"garden\",\"learning\",\"online-class\",\"spring\",\"succulents\"]}\\' id=\"post-1137327\">\\n\\n\\t<a href=\"//www.brit.co/how-to-garden-succulents/\" class=\"container-media clickthrough\">\\n\\n\\t\\t<div class=\"item-media\">\\n\\n\\t\\t\\t<img src=\"https://images.britcdn.com/wp-content/uploads/2016/03/SucculentGardening_FEATURE.png?fit=crop&#038;w=311&#038;h=311\">\\n\\n\\t\\t</div>\\n\\n\\t</a>\\n\\n\\t<div class=\"container-information\">\\n\\n\\n\\t\\t\\t\\n\\n\\t\\t\\t\\t<a class=\"label-category\" href=\"//www.brit.co/category/lifestyle/creativity/\">\\n\\n\\t\\t\\t\\n\\n\\t\\t\\t\\t<span>\\n\\n\\t\\t\\t\\t\\tCreativity\\n\\n\\t\\t\\t\\t</span>\\n\\n\\t\\t\\t\\n\\n\\t\\t\\t\\t</a>\\n\\n\\t\\t\\t\\n\\n\\t\\t<a class=\"label-title clickthrough\" href=\"//www.brit.co/how-to-garden-succulents/\">\\n\\n\\t\\t\\t<span>\\n\\n\\t\\t\\t\\t3 Reasons You Need to Learn Succulent Gardening\\n\\n\\t\\t\\t</span>\\n\\n\\t\\t</a>\\n\\n\\t\\t<span class=\"container-byline\">\\n\\n\\t\\t\\t<a class=\"label-user\" href=\"//www.brit.co/author/sarahv/\">\\n\\n\\t\\t\\t\\t<span>Sarah Vogt</span>\\n\\n\\t\\t\\t</a>\\n\\n\\t\\t\\t<a class=\"label-date clickthrough\" href=\"//www.brit.co/how-to-garden-succulents/\">\\n\\n\\t\\t\\t\\t<time datetime=\"2016-03-03T06:50:18-07:00\">March 3, 2016</time>\\n\\n\\t\\t\\t</a>\\n\\n\\t\\t</span>\\n\\n\\t\\t<a href=\"//www.brit.co/how-to-garden-succulents/\" class=\"click-area clickthrough\"></a>\\n\\n\\t</div>\\n\\n  \\n\\n</div>\\n\\n\\n<div class=\" col-md-3 col-sm-6 f-card card-bit\" data-card-legacy data-json=\\'{\"id\":643992,\"slug\":\"egg-cup-planted-succulents\",\"url\":\"http:\\\\/\\\\/www.brit.co\\\\/b\\\\/egg-cup-planted-succulents\\\\/\",\"image\":\"//www.brit.co/wp-content/uploads/2014/03/3-Cups.jpg?fit=crop&#038;w=500&#038;h=500\",\"post_type\":\"bit\",\"content_type\":\"post\",\"tags\":[\"easter\",\"easter-centerpieces\",\"easter-decor\",\"spring-centerpieces\"]}\\' id=\"post-643992\">\\n\\n\\t<a href=\"//www.brit.co/b/egg-cup-planted-succulents/\" class=\"container-media clickthrough\">\\n\\n\\t\\t<div class=\"item-media\">\\n\\n\\t\\t\\t<img src=\"https://images.britcdn.com/wp-content/uploads/2014/03/3-Cups.jpg?fit=crop&#038;w=311&#038;h=311\">\\n\\n\\t\\t</div>\\n\\n\\t</a>\\n\\n\\t<div class=\"container-information\">\\n\\n\\n\\t\\t\\t\\n\\n\\t\\t\\t\\t<a class=\"label-category\" href=\"//www.brit.co/category/living/\">\\n\\n\\t\\t\\t\\n\\n\\t\\t\\t\\t<span>\\n\\n\\t\\t\\t\\t\\tHome\\n\\n\\t\\t\\t\\t</span>\\n\\n\\t\\t\\t\\n\\n\\t\\t\\t\\t</a>\\n\\n\\t\\t\\t\\n\\n\\t\\t<a class=\"label-title clickthrough\" href=\"//www.brit.co/b/egg-cup-planted-succulents/\">\\n\\n\\t\\t\\t<span>\\n\\n\\t\\t\\t\\tEgg Cup Planted Succulents\\n\\n\\t\\t\\t</span>\\n\\n\\t\\t</a>\\n\\n\\t\\t<span class=\"container-byline\">\\n\\n\\t\\t\\t<a class=\"label-user\" href=\"//www.brit.co/author/kate_puhala/\">\\n\\n\\t\\t\\t\\t<span>Kate Puhala</span>\\n\\n\\t\\t\\t</a>\\n\\n\\t\\t\\t<a class=\"label-date clickthrough\" href=\"//www.brit.co/b/egg-cup-planted-succulents/\">\\n\\n\\t\\t\\t\\t<time datetime=\"2014-03-28T13:50:06-07:00\">March 28, 2014</time>\\n\\n\\t\\t\\t</a>\\n\\n\\t\\t</span>\\n\\n\\t\\t<a href=\"//www.brit.co/b/egg-cup-planted-succulents/\" class=\"click-area clickthrough\"></a>\\n\\n\\t</div>\\n\\n  \\n\\n</div>\\n\\n\\n<div class=\" col-md-3 col-sm-6 f-card card-post\" data-card-legacy data-json=\\'{\"id\":542,\"slug\":\"10-creative-planters-for-the-avant-gardener\",\"url\":\"http:\\\\/\\\\/www.brit.co\\\\/10-creative-planters-for-the-avant-gardener\\\\/\",\"image\":\"//www.brit.co/wp-content/uploads/2012/05/2d1479e04f488e7b89a7cba24b119930b3c534ad.jpg?fit=crop&#038;w=500&#038;h=500\",\"post_type\":\"post\",\"content_type\":\"post\",\"tags\":[\"flowers\",\"may-flowers\"]}\\' id=\"post-542\">\\n\\n\\t<a href=\"//www.brit.co/10-creative-planters-for-the-avant-gardener/\" class=\"container-media clickthrough\">\\n\\n\\t\\t<div class=\"item-media\">\\n\\n\\t\\t\\t<img src=\"https://images.britcdn.com/wp-content/uploads/2012/05/2d1479e04f488e7b89a7cba24b119930b3c534ad.jpg?fit=crop&#038;w=311&#038;h=311\">\\n\\n\\t\\t</div>\\n\\n\\t</a>\\n\\n\\t<div class=\"container-information\">\\n\\n\\n\\t\\t\\t\\n\\n\\t\\t\\t\\t<a class=\"label-category\" href=\"//www.brit.co/category/living/\">\\n\\n\\t\\t\\t\\n\\n\\t\\t\\t\\t<span>\\n\\n\\t\\t\\t\\t\\tHome\\n\\n\\t\\t\\t\\t</span>\\n\\n\\t\\t\\t\\n\\n\\t\\t\\t\\t</a>\\n\\n\\t\\t\\t\\n\\n\\t\\t<a class=\"label-title clickthrough\" href=\"//www.brit.co/10-creative-planters-for-the-avant-gardener/\">\\n\\n\\t\\t\\t<span>\\n\\n\\t\\t\\t\\t10 Creative Planters for the Avant Gardener \\n\\n\\t\\t\\t</span>\\n\\n\\t\\t</a>\\n\\n\\t\\t<span class=\"container-byline\">\\n\\n\\t\\t\\t<a class=\"label-user\" href=\"//www.brit.co/author/anjelika/\">\\n\\n\\t\\t\\t\\t<span>Anjelika Temple</span>\\n\\n\\t\\t\\t</a>\\n\\n\\t\\t\\t<a class=\"label-date clickthrough\" href=\"//www.brit.co/10-creative-planters-for-the-avant-gardener/\">\\n\\n\\t\\t\\t\\t<time datetime=\"2012-05-14T18:58:00-07:00\">May 14, 2012</time>\\n\\n\\t\\t\\t</a>\\n\\n\\t\\t</span>\\n\\n\\t\\t<a href=\"//www.brit.co/10-creative-planters-for-the-avant-gardener/\" class=\"click-area clickthrough\"></a>\\n\\n\\t</div>\\n\\n  \\n\\n</div>\\n\\n\\n<div class=\" col-md-3 col-sm-6 f-card card-post\" data-card-legacy data-json=\\'{\"id\":1197620,\"slug\":\"diy-indoor-succulent-garden-tutorial\",\"url\":\"http:\\\\/\\\\/www.brit.co\\\\/diy-indoor-succulent-garden-tutorial\\\\/\",\"image\":\"//www.brit.co/wp-content/uploads/2016/05/cover-Kelly_Trending_Basket_Garden_28.jpg?fit=crop&#038;w=500&#038;h=500\",\"post_type\":\"post\",\"content_type\":\"post\",\"tags\":[\"garden\",\"home-decor\",\"plants\",\"small-space\",\"small-space-living\",\"succulents\",\"trendy-diy\"]}\\' id=\"post-1197620\">\\n\\n\\t<a href=\"//www.brit.co/diy-indoor-succulent-garden-tutorial/\" class=\"container-media clickthrough\">\\n\\n\\t\\t<div class=\"item-media\">\\n\\n\\t\\t\\t<img src=\"https://images.britcdn.com/wp-content/uploads/2016/05/cover-Kelly_Trending_Basket_Garden_28.jpg?fit=crop&#038;w=311&#038;h=311\">\\n\\n\\t\\t</div>\\n\\n\\t</a>\\n\\n\\t<div class=\"container-information\">\\n\\n\\n\\t\\t\\t\\n\\n\\t\\t\\t\\t<a class=\"label-category\" href=\"//www.brit.co/category/tutorials/\">\\n\\n\\t\\t\\t\\n\\n\\t\\t\\t\\t<span>\\n\\n\\t\\t\\t\\t\\tDIY\\n\\n\\t\\t\\t\\t</span>\\n\\n\\t\\t\\t\\n\\n\\t\\t\\t\\t</a>\\n\\n\\t\\t\\t\\n\\n\\t\\t<a class=\"label-title clickthrough\" href=\"//www.brit.co/diy-indoor-succulent-garden-tutorial/\">\\n\\n\\t\\t\\t<span>\\n\\n\\t\\t\\t\\tTurn This Kitchen Accessory into a Small Space Indoor Garden\\n\\n\\t\\t\\t</span>\\n\\n\\t\\t</a>\\n\\n\\t\\t<span class=\"container-byline\">\\n\\n\\t\\t\\t<a class=\"label-user\" href=\"//www.brit.co/author/kelly_bryden/\">\\n\\n\\t\\t\\t\\t<span>Kelly Bryden</span>\\n\\n\\t\\t\\t</a>\\n\\n\\t\\t\\t<a class=\"label-date clickthrough\" href=\"//www.brit.co/diy-indoor-succulent-garden-tutorial/\">\\n\\n\\t\\t\\t\\t<time datetime=\"2016-05-11T17:50:29-07:00\">May 11, 2016</time>\\n\\n\\t\\t\\t</a>\\n\\n\\t\\t</span>\\n\\n\\t\\t<a href=\"//www.brit.co/diy-indoor-succulent-garden-tutorial/\" class=\"click-area clickthrough\"></a>\\n\\n\\t</div>\\n\\n  \\n\\n</div>\\n\\n\\n<div class=\" col-md-3 col-sm-6 f-card card-post\" data-card-legacy data-json=\\'{\"id\":861989,\"slug\":\"diy-cactus-succulent-pillow\",\"url\":\"http:\\\\/\\\\/www.brit.co\\\\/diy-cactus-succulent-pillow\\\\/\",\"image\":\"//www.brit.co/wp-content/uploads/2015/02/Feat-diy-cactus.jpg?fit=crop&#038;w=500&#038;h=500\",\"post_type\":\"post\",\"content_type\":\"post\",\"tags\":[\"decor\",\"how-to\",\"living-room\",\"no-sew\",\"pillow\",\"pillows\",\"sewing\",\"succulents\",\"tutorials-2\"]}\\' id=\"post-861989\">\\n\\n\\t<a href=\"//www.brit.co/diy-cactus-succulent-pillow/\" class=\"container-media clickthrough\">\\n\\n\\t\\t<div class=\"item-media\">\\n\\n\\t\\t\\t<img src=\"https://images.britcdn.com/wp-content/uploads/2015/02/Feat-diy-cactus.jpg?fit=crop&#038;w=311&#038;h=311\">\\n\\n\\t\\t</div>\\n\\n\\t</a>\\n\\n\\t<div class=\"container-information\">\\n\\n\\n\\t\\t\\t\\n\\n\\t\\t\\t\\t<a class=\"label-category\" href=\"//www.brit.co/category/tutorials/\">\\n\\n\\t\\t\\t\\n\\n\\t\\t\\t\\t<span>\\n\\n\\t\\t\\t\\t\\tDIY\\n\\n\\t\\t\\t\\t</span>\\n\\n\\t\\t\\t\\n\\n\\t\\t\\t\\t</a>\\n\\n\\t\\t\\t\\n\\n\\t\\t<a class=\"label-title clickthrough\" href=\"//www.brit.co/diy-cactus-succulent-pillow/\">\\n\\n\\t\\t\\t<span>\\n\\n\\t\\t\\t\\tUpgrade Your Couch With This Hip Cactus Pillow DIY (Free Template Included!)&nbsp;\\n\\n\\t\\t\\t</span>\\n\\n\\t\\t</a>\\n\\n\\t\\t<span class=\"container-byline\">\\n\\n\\t\\t\\t<a class=\"label-user\" href=\"//www.brit.co/author/ifucci/\">\\n\\n\\t\\t\\t\\t<span>Irene Fucci</span>\\n\\n\\t\\t\\t</a>\\n\\n\\t\\t\\t<a class=\"label-date clickthrough\" href=\"//www.brit.co/diy-cactus-succulent-pillow/\">\\n\\n\\t\\t\\t\\t<time datetime=\"2015-02-18T06:50:06-07:00\">February 18, 2015</time>\\n\\n\\t\\t\\t</a>\\n\\n\\t\\t</span>\\n\\n\\t\\t<a href=\"//www.brit.co/diy-cactus-succulent-pillow/\" class=\"click-area clickthrough\"></a>\\n\\n\\t</div>\\n\\n  \\n\\n</div>\\n\\n\\n<div class=\" col-md-3 col-sm-6 f-card card-post\" data-card-legacy data-json=\\'{\"id\":1194024,\"slug\":\"diy-faux-cacti-succulents\",\"url\":\"http:\\\\/\\\\/www.brit.co\\\\/diy-faux-cacti-succulents\\\\/\",\"image\":\"//www.brit.co/wp-content/uploads/2016/05/CARDBOARD-CACTI-copy-645x6961.jpg?fit=crop&#038;w=500&#038;h=500\",\"post_type\":\"post\",\"content_type\":\"post\",\"tags\":[]}\\' id=\"post-1194024\">\\n\\n\\t<a href=\"//www.brit.co/diy-faux-cacti-succulents/\" class=\"container-media clickthrough\">\\n\\n\\t\\t<div class=\"item-media\">\\n\\n\\t\\t\\t<img src=\"https://images.britcdn.com/wp-content/uploads/2016/05/CARDBOARD-CACTI-copy-645x6961.jpg?fit=crop&#038;w=311&#038;h=311\">\\n\\n\\t\\t</div>\\n\\n\\t</a>\\n\\n\\t<div class=\"container-information\">\\n\\n\\n\\t\\t\\t\\n\\n\\t\\t\\t\\t<a class=\"label-category\" href=\"//www.brit.co/category/living/home-budget-friendly/\">\\n\\n\\t\\t\\t\\n\\n\\t\\t\\t\\t<span>\\n\\n\\t\\t\\t\\t\\tBudget Friendly Home\\n\\n\\t\\t\\t\\t</span>\\n\\n\\t\\t\\t\\n\\n\\t\\t\\t\\t</a>\\n\\n\\t\\t\\t\\n\\n\\t\\t<a class=\"label-title clickthrough\" href=\"//www.brit.co/diy-faux-cacti-succulents/\">\\n\\n\\t\\t\\t<span>\\n\\n\\t\\t\\t\\t18 Ways to Bring the Faux Cacti and Succulent Pinterest Trend Home\\n\\n\\t\\t\\t</span>\\n\\n\\t\\t</a>\\n\\n\\t\\t<span class=\"container-byline\">\\n\\n\\t\\t\\t<a class=\"label-user\" href=\"//www.brit.co/author/kthorn/\">\\n\\n\\t\\t\\t\\t<span>Kate Thorn</span>\\n\\n\\t\\t\\t</a>\\n\\n\\t\\t\\t<a class=\"label-date clickthrough\" href=\"//www.brit.co/diy-faux-cacti-succulents/\">\\n\\n\\t\\t\\t\\t<time datetime=\"2016-05-18T15:50:40-07:00\">May 18, 2016</time>\\n\\n\\t\\t\\t</a>\\n\\n\\t\\t</span>\\n\\n\\t\\t<a href=\"//www.brit.co/diy-faux-cacti-succulents/\" class=\"click-area clickthrough\"></a>\\n\\n\\t</div>\\n\\n  \\n\\n</div>\\n\\n\\n<div class=\" col-md-3 col-sm-6 f-card card-post\" data-card-legacy data-json=\\'{\"id\":925013,\"slug\":\"how-to-make-front-door-planter\",\"url\":\"http:\\\\/\\\\/www.brit.co\\\\/how-to-make-front-door-planter\\\\/\",\"image\":\"//www.brit.co/wp-content/uploads/2015/05/planter-feature-brit.jpg?fit=crop&#038;w=500&#038;h=500\",\"post_type\":\"post\",\"content_type\":\"post\",\"tags\":[\"decor\",\"how-to\",\"planter\",\"tutorials-2\",\"wood\"]}\\' id=\"post-925013\">\\n\\n\\t<a href=\"//www.brit.co/how-to-make-front-door-planter/\" class=\"container-media clickthrough\">\\n\\n\\t\\t<div class=\"item-media\">\\n\\n\\t\\t\\t<img src=\"https://images.britcdn.com/wp-content/uploads/2015/05/planter-feature-brit.jpg?fit=crop&#038;w=311&#038;h=311\">\\n\\n\\t\\t</div>\\n\\n\\t</a>\\n\\n\\t<div class=\"container-information\">\\n\\n\\n\\t\\t\\t\\n\\n\\t\\t\\t\\t<a class=\"label-category\" href=\"//www.brit.co/category/tutorials/\">\\n\\n\\t\\t\\t\\n\\n\\t\\t\\t\\t<span>\\n\\n\\t\\t\\t\\t\\tDIY\\n\\n\\t\\t\\t\\t</span>\\n\\n\\t\\t\\t\\n\\n\\t\\t\\t\\t</a>\\n\\n\\t\\t\\t\\n\\n\\t\\t<a class=\"label-title clickthrough\" href=\"//www.brit.co/how-to-make-front-door-planter/\">\\n\\n\\t\\t\\t<span>\\n\\n\\t\\t\\t\\tHow to Make a Pretty Planter for Your Front Door\\n\\n\\t\\t\\t</span>\\n\\n\\t\\t</a>\\n\\n\\t\\t<span class=\"container-byline\">\\n\\n\\t\\t\\t<a class=\"label-user\" href=\"//www.brit.co/author/nousdecor/\">\\n\\n\\t\\t\\t\\t<span>NousDecor</span>\\n\\n\\t\\t\\t</a>\\n\\n\\t\\t\\t<a class=\"label-date clickthrough\" href=\"//www.brit.co/how-to-make-front-door-planter/\">\\n\\n\\t\\t\\t\\t<time datetime=\"2015-05-25T06:50:48-07:00\">May 25, 2015</time>\\n\\n\\t\\t\\t</a>\\n\\n\\t\\t</span>\\n\\n\\t\\t<a href=\"//www.brit.co/how-to-make-front-door-planter/\" class=\"click-area clickthrough\"></a>\\n\\n\\t</div>\\n\\n  \\n\\n</div>\\n\\n\\n<div class=\" col-md-3 col-sm-6 f-card card-post\" data-card-legacy data-json=\\'{\"id\":1019758,\"slug\":\"autumn-fall-houseplants-for-cold-weather\",\"url\":\"http:\\\\/\\\\/www.brit.co\\\\/autumn-fall-houseplants-for-cold-weather\\\\/\",\"image\":\"//www.brit.co/wp-content/uploads/2015/10/Screen-Shot-2015-10-13-at-1.07.51-PM.png?fit=crop&#038;w=500&#038;h=500\",\"post_type\":\"post\",\"content_type\":\"post\",\"tags\":[\"decor\",\"fall\",\"plants\",\"winter\"]}\\' id=\"post-1019758\">\\n\\n\\t<a href=\"//www.brit.co/autumn-fall-houseplants-for-cold-weather/\" class=\"container-media clickthrough\">\\n\\n\\t\\t<div class=\"item-media\">\\n\\n\\t\\t\\t<img src=\"https://images.britcdn.com/wp-content/uploads/2015/10/Screen-Shot-2015-10-13-at-1.07.51-PM.png?fit=crop&#038;w=311&#038;h=311\">\\n\\n\\t\\t</div>\\n\\n\\t</a>\\n\\n\\t<div class=\"container-information\">\\n\\n\\n\\t\\t\\t\\n\\n\\t\\t\\t\\t<a class=\"label-category\" href=\"//www.brit.co/category/living/\">\\n\\n\\t\\t\\t\\n\\n\\t\\t\\t\\t<span>\\n\\n\\t\\t\\t\\t\\tHome\\n\\n\\t\\t\\t\\t</span>\\n\\n\\t\\t\\t\\n\\n\\t\\t\\t\\t</a>\\n\\n\\t\\t\\t\\n\\n\\t\\t<a class=\"label-title clickthrough\" href=\"//www.brit.co/autumn-fall-houseplants-for-cold-weather/\">\\n\\n\\t\\t\\t<span>\\n\\n\\t\\t\\t\\t10 Autumn Houseplants That Will Survive Colder Weather\\n\\n\\t\\t\\t</span>\\n\\n\\t\\t</a>\\n\\n\\t\\t<span class=\"container-byline\">\\n\\n\\t\\t\\t<a class=\"label-user\" href=\"//www.brit.co/author/keyman/\">\\n\\n\\t\\t\\t\\t<span>Kalie Eyman</span>\\n\\n\\t\\t\\t</a>\\n\\n\\t\\t\\t<a class=\"label-date clickthrough\" href=\"//www.brit.co/autumn-fall-houseplants-for-cold-weather/\">\\n\\n\\t\\t\\t\\t<time datetime=\"2015-10-14T15:50:05-07:00\">October 14, 2015</time>\\n\\n\\t\\t\\t</a>\\n\\n\\t\\t</span>\\n\\n\\t\\t<a href=\"//www.brit.co/autumn-fall-houseplants-for-cold-weather/\" class=\"click-area clickthrough\"></a>\\n\\n\\t</div>\\n\\n  \\n\\n</div>\\n\\n\\n<div class=\" col-md-3 col-sm-6 f-card card-post\" data-card-legacy data-json=\\'{\"id\":908431,\"slug\":\"decorate-with-air-plants\",\"url\":\"http:\\\\/\\\\/www.brit.co\\\\/decorate-with-air-plants\\\\/\",\"image\":\"//www.brit.co/wp-content/uploads/2015/04/Untitled-4.jpg?fit=crop&#038;w=500&#038;h=500\",\"post_type\":\"post\",\"content_type\":\"post\",\"tags\":[\"decor\",\"garden\",\"geometric\",\"modern\",\"succulents\"]}\\' id=\"post-908431\">\\n\\n\\t<a href=\"//www.brit.co/decorate-with-air-plants/\" class=\"container-media clickthrough\">\\n\\n\\t\\t<div class=\"item-media\">\\n\\n\\t\\t\\t<img src=\"https://images.britcdn.com/wp-content/uploads/2015/04/Untitled-4.jpg?fit=crop&#038;w=311&#038;h=311\">\\n\\n\\t\\t</div>\\n\\n\\t</a>\\n\\n\\t<div class=\"container-information\">\\n\\n\\n\\t\\t\\t\\n\\n\\t\\t\\t\\t<a class=\"label-category\" href=\"//www.brit.co/category/living/\">\\n\\n\\t\\t\\t\\n\\n\\t\\t\\t\\t<span>\\n\\n\\t\\t\\t\\t\\tHome\\n\\n\\t\\t\\t\\t</span>\\n\\n\\t\\t\\t\\n\\n\\t\\t\\t\\t</a>\\n\\n\\t\\t\\t\\n\\n\\t\\t<a class=\"label-title clickthrough\" href=\"//www.brit.co/decorate-with-air-plants/\">\\n\\n\\t\\t\\t<span>\\n\\n\\t\\t\\t\\t14 Ways to Decorate With Air Plants (aka the New Succulent!)\\n\\n\\t\\t\\t</span>\\n\\n\\t\\t</a>\\n\\n\\t\\t<span class=\"container-byline\">\\n\\n\\t\\t\\t<a class=\"label-user\" href=\"//www.brit.co/author/keyman/\">\\n\\n\\t\\t\\t\\t<span>Kalie Eyman</span>\\n\\n\\t\\t\\t</a>\\n\\n\\t\\t\\t<a class=\"label-date clickthrough\" href=\"//www.brit.co/decorate-with-air-plants/\">\\n\\n\\t\\t\\t\\t<time datetime=\"2015-05-21T19:50:28-07:00\">May 21, 2015</time>\\n\\n\\t\\t\\t</a>\\n\\n\\t\\t</span>\\n\\n\\t\\t<a href=\"//www.brit.co/decorate-with-air-plants/\" class=\"click-area clickthrough\"></a>\\n\\n\\t</div>\\n\\n  \\n\\n</div>\\n\\n\\n<div class=\" col-md-3 col-sm-6 f-card card-post\" data-card-legacy data-json=\\'{\"id\":776127,\"slug\":\"naked-cakes\",\"url\":\"http:\\\\/\\\\/www.brit.co\\\\/naked-cakes\\\\/\",\"image\":\"//www.brit.co/wp-content/uploads/2014/10/Featured-Image_Colorful-Layers.jpg?fit=crop&#038;w=500&#038;h=500\",\"post_type\":\"post\",\"content_type\":\"post\",\"tags\":[\"birthday\",\"cake\"]}\\' id=\"post-776127\">\\n\\n\\t<a href=\"//www.brit.co/naked-cakes/\" class=\"container-media clickthrough\">\\n\\n\\t\\t<div class=\"item-media\">\\n\\n\\t\\t\\t<img src=\"https://images.britcdn.com/wp-content/uploads/2014/10/Featured-Image_Colorful-Layers.jpg?fit=crop&#038;w=311&#038;h=311\">\\n\\n\\t\\t</div>\\n\\n\\t</a>\\n\\n\\t<div class=\"container-information\">\\n\\n\\n\\t\\t\\t\\n\\n\\t\\t\\t\\t<a class=\"label-category\" href=\"//www.brit.co/category/food/\">\\n\\n\\t\\t\\t\\n\\n\\t\\t\\t\\t<span>\\n\\n\\t\\t\\t\\t\\tFood\\n\\n\\t\\t\\t\\t</span>\\n\\n\\t\\t\\t\\n\\n\\t\\t\\t\\t</a>\\n\\n\\t\\t\\t\\n\\n\\t\\t<a class=\"label-title clickthrough\" href=\"//www.brit.co/naked-cakes/\">\\n\\n\\t\\t\\t<span>\\n\\n\\t\\t\\t\\tGo Naked With 21 Frosting-Free Wedding Cakes\\n\\n\\t\\t\\t</span>\\n\\n\\t\\t</a>\\n\\n\\t\\t<span class=\"container-byline\">\\n\\n\\t\\t\\t<a class=\"label-user\" href=\"//www.brit.co/author/hwalrath/\">\\n\\n\\t\\t\\t\\t<span>Heather Walrath</span>\\n\\n\\t\\t\\t</a>\\n\\n\\t\\t\\t<a class=\"label-date clickthrough\" href=\"//www.brit.co/naked-cakes/\">\\n\\n\\t\\t\\t\\t<time datetime=\"2014-10-21T09:50:31-07:00\">October 21, 2014</time>\\n\\n\\t\\t\\t</a>\\n\\n\\t\\t</span>\\n\\n\\t\\t<a href=\"//www.brit.co/naked-cakes/\" class=\"click-area clickthrough\"></a>\\n\\n\\t</div>\\n\\n  \\n\\n</div>\\n\\n\\n<div class=\" col-md-3 col-sm-6 f-card card-post\" data-card-legacy data-json=\\'{\"id\":1057012,\"slug\":\"diy-pinecone-terrarium\",\"url\":\"http:\\\\/\\\\/www.brit.co\\\\/diy-pinecone-terrarium\\\\/\",\"image\":\"//www.brit.co/wp-content/uploads/2015/11/cover-Pine_Cone_Terrariums_026.jpg?fit=crop&#038;w=500&#038;h=500\",\"post_type\":\"post\",\"content_type\":\"post\",\"tags\":[\"succulents\"]}\\' id=\"post-1057012\">\\n\\n\\t<a href=\"//www.brit.co/diy-pinecone-terrarium/\" class=\"container-media clickthrough\">\\n\\n\\t\\t<div class=\"item-media\">\\n\\n\\t\\t\\t<img src=\"https://images.britcdn.com/wp-content/uploads/2015/11/cover-Pine_Cone_Terrariums_026.jpg?fit=crop&#038;w=311&#038;h=311\">\\n\\n\\t\\t</div>\\n\\n\\t</a>\\n\\n\\t<div class=\"container-information\">\\n\\n\\n\\t\\t\\t\\n\\n\\t\\t\\t\\t<a class=\"label-category\" href=\"//www.brit.co/category/tutorials/\">\\n\\n\\t\\t\\t\\n\\n\\t\\t\\t\\t<span>\\n\\n\\t\\t\\t\\t\\tDIY\\n\\n\\t\\t\\t\\t</span>\\n\\n\\t\\t\\t\\n\\n\\t\\t\\t\\t</a>\\n\\n\\t\\t\\t\\n\\n\\t\\t<a class=\"label-title clickthrough\" href=\"//www.brit.co/diy-pinecone-terrarium/\">\\n\\n\\t\\t\\t<span>\\n\\n\\t\\t\\t\\tHow to Turn Pinecones into Ornaments That Are Seriously Chic\\n\\n\\t\\t\\t</span>\\n\\n\\t\\t</a>\\n\\n\\t\\t<span class=\"container-byline\">\\n\\n\\t\\t\\t<a class=\"label-user\" href=\"//www.brit.co/author/kelly_bryden/\">\\n\\n\\t\\t\\t\\t<span>Kelly Bryden</span>\\n\\n\\t\\t\\t</a>\\n\\n\\t\\t\\t<a class=\"label-date clickthrough\" href=\"//www.brit.co/diy-pinecone-terrarium/\">\\n\\n\\t\\t\\t\\t<time datetime=\"2015-12-21T04:20:28-07:00\">December 21, 2015</time>\\n\\n\\t\\t\\t</a>\\n\\n\\t\\t</span>\\n\\n\\t\\t<a href=\"//www.brit.co/diy-pinecone-terrarium/\" class=\"click-area clickthrough\"></a>\\n\\n\\t</div>\\n\\n  \\n\\n</div>\\n\\n\\n<div class=\" col-md-3 col-sm-6 f-card card-post\" data-card-legacy data-json=\\'{\"id\":704689,\"slug\":\"non-flower-centerpieces\",\"url\":\"http:\\\\/\\\\/www.brit.co\\\\/non-flower-centerpieces\\\\/\",\"image\":\"//www.brit.co/wp-content/uploads/2014/07/cover33.jpg?fit=crop&#038;w=500&#038;h=500\",\"post_type\":\"post\",\"content_type\":\"post\",\"tags\":[\"centerpiece\",\"decor\",\"flowers\"]}\\' id=\"post-704689\">\\n\\n\\t<a href=\"//www.brit.co/non-flower-centerpieces/\" class=\"container-media clickthrough\">\\n\\n\\t\\t<div class=\"item-media\">\\n\\n\\t\\t\\t<img src=\"https://images.britcdn.com/wp-content/uploads/2014/07/cover33.jpg?fit=crop&#038;w=311&#038;h=311\">\\n\\n\\t\\t</div>\\n\\n\\t</a>\\n\\n\\t<div class=\"container-information\">\\n\\n\\n\\t\\t\\t\\n\\n\\t\\t\\t\\t<a class=\"label-category\" href=\"//www.brit.co/category/living/\">\\n\\n\\t\\t\\t\\n\\n\\t\\t\\t\\t<span>\\n\\n\\t\\t\\t\\t\\tHome\\n\\n\\t\\t\\t\\t</span>\\n\\n\\t\\t\\t\\n\\n\\t\\t\\t\\t</a>\\n\\n\\t\\t\\t\\n\\n\\t\\t<a class=\"label-title clickthrough\" href=\"//www.brit.co/non-flower-centerpieces/\">\\n\\n\\t\\t\\t<span>\\n\\n\\t\\t\\t\\t21 Creative Centerpieces That Don&#039;t Involve Flowers\\n\\n\\t\\t\\t</span>\\n\\n\\t\\t</a>\\n\\n\\t\\t<span class=\"container-byline\">\\n\\n\\t\\t\\t<a class=\"label-user\" href=\"//www.brit.co/author/cwatkins/\">\\n\\n\\t\\t\\t\\t<span>Casey Watkins</span>\\n\\n\\t\\t\\t</a>\\n\\n\\t\\t\\t<a class=\"label-date clickthrough\" href=\"//www.brit.co/non-flower-centerpieces/\">\\n\\n\\t\\t\\t\\t<time datetime=\"2014-07-22T16:20:27-07:00\">July 22, 2014</time>\\n\\n\\t\\t\\t</a>\\n\\n\\t\\t</span>\\n\\n\\t\\t<a href=\"//www.brit.co/non-flower-centerpieces/\" class=\"click-area clickthrough\"></a>\\n\\n\\t</div>\\n\\n  \\n\\n</div>\\n\\n\\n  </div>\\n</div>\\n\\t    </div>\\n\\t    <div class=\"loading\" style=\"display: none\">\\n\\t      <img src=\"https://pixel.brit.co/wp-content/themes/britco-responsive/img/loading.svg\" alt=\"Loading...\">\\n\\t    </div>\\n\\t\\t\\t<div class=\"spacer clearfix\" style=\"clear: both;\"></div>\\n\\t  </div>\\n\\t</div>\\n\\t</div><!--/.container--><!--primary content container-->\\n\\t</div><!--/#page-->\\n\\t\\t<script type=\"text/javascript\" src=\"//ajax.googleapis.com/ajax/libs/jquery/1.8.1/jquery.min.js\" pagespeed_no_defer=\"\"></script>\\n\\t<script type=\"text/javascript\" pagespeed_no_defer=\"\">\\n\\t\\twindow.jQuery || document.write(unescape(\\'%3Cscript type=\"text/javascript\" pagespeed_no_defer=\"\" src=\"https://pixel.brit.co/wp-content/themes/britco-responsive/js/jquery.min.js\"%3E%3C/script%3E\\'));\\n\\t</script>\\n\\t<!-- Quantcast Tag -->\\n\\t<script type=\"text/javascript\">\\n\\tvar _qevents = _qevents || [];\\n\\n\\t(function() {\\n\\tvar elem = document.createElement(\\'script\\');\\n\\telem.src = (document.location.protocol == \"https:\" ? \"https://secure\" : \"http://edge\") + \".quantserve.com/quant.js\";\\n\\telem.async = true;\\n\\telem.type = \"text/javascript\";\\n\\tvar scpt = document.getElementsByTagName(\\'script\\')[0];\\n\\tscpt.parentNode.insertBefore(elem, scpt);\\n\\t})();\\n\\n\\t_qevents.push({\\n\\tqacct:\"p-AnCGdVV9xxQVP\"\\n\\t});\\n\\t</script>\\n\\n\\t<noscript>\\n\\t<div style=\"display:none;\">\\n\\t<img src=\"//pixel.quantserve.com/pixel/p-AnCGdVV9xxQVP.gif\" border=\"0\" height=\"1\" width=\"1\" alt=\"Quantcast\"/>\\n\\t</div>\\n\\t</noscript>\\n\\t<!-- End Quantcast tag -->\\n\\t<script type=\\'text/javascript\\' src=\\'https://pixel.brit.co/wp-content/themes/britco-responsive/js/underscore.min.js?ver=1.8.3\\'></script>\\n<script type=\\'text/javascript\\' src=\\'https://pixel.brit.co/wp-content/themes/britco/js/script.js?ver=0b28e98-www-brit-co\\'></script>\\n<script type=\\'text/javascript\\' src=\\'https://components.britcdn.com/components-1.4.21.min.js?ver=0b28e98-www-brit-co\\'></script>\\n<script type=\\'text/javascript\\' src=\\'https://pixel.brit.co/wp-includes/js/wp-embed.min.js?ver=4.5.4\\'></script>\\n<script async src=\"https://pixel.brit.co/wp-content/themes/britco-responsive/_compiled/js/app.js?ver=0b28e98-www-brit-co\"></script>    <script>\\n    \\tangular.module(\\'bc.components\\').config([\\n    \\t\\t\\'apiProvider\\'\\n    \\t, function(apiProvider) {\\n    \\t\\tapiProvider.setRoot(\"http:\\\\/\\\\/www.brit.co\\\\/\");\\n    \\t}]);\\n  \\t</script>\\n  \\t</body>\\n\\t</html>\\n'"
      ]
     },
     "execution_count": 16,
     "metadata": {},
     "output_type": "execute_result"
    }
   ],
   "source": [
    "# raw text\n",
    "response.text"
   ]
  },
  {
   "cell_type": "markdown",
   "metadata": {},
   "source": [
    "The data is returned either as JSON, XML, or HTML. "
   ]
  },
  {
   "cell_type": "markdown",
   "metadata": {},
   "source": [
    "<h4> JSON </h4>"
   ]
  },
  {
   "cell_type": "markdown",
   "metadata": {},
   "source": [
    "So the <i> requests </i> library contains a built-in JSON reader (nice).\n",
    "<n> Try it out using a different example: <b> Google Maps </b> data (with its API). </n>"
   ]
  },
  {
   "cell_type": "code",
   "execution_count": 19,
   "metadata": {
    "collapsed": false
   },
   "outputs": [
    {
     "data": {
      "text/plain": [
       "u'{\\n   \"results\" : [\\n      {\\n         \"address_components\" : [\\n            {\\n               \"long_name\" : \"350\",\\n               \"short_name\" : \"350\",\\n               \"types\" : [ \"street_number\" ]\\n            },\\n            {\\n               \"long_name\" : \"5th Avenue\",\\n               \"short_name\" : \"5th Ave\",\\n               \"types\" : [ \"route\" ]\\n            },\\n            {\\n               \"long_name\" : \"Park Slope\",\\n               \"short_name\" : \"Park Slope\",\\n               \"types\" : [ \"neighborhood\", \"political\" ]\\n            },\\n            {\\n               \"long_name\" : \"Brooklyn\",\\n               \"short_name\" : \"Brooklyn\",\\n               \"types\" : [ \"political\", \"sublocality\", \"sublocality_level_1\" ]\\n            },\\n            {\\n               \"long_name\" : \"Kings County\",\\n               \"short_name\" : \"Kings County\",\\n               \"types\" : [ \"administrative_area_level_2\", \"political\" ]\\n            },\\n            {\\n               \"long_name\" : \"New York\",\\n               \"short_name\" : \"NY\",\\n               \"types\" : [ \"administrative_area_level_1\", \"political\" ]\\n            },\\n            {\\n               \"long_name\" : \"United States\",\\n               \"short_name\" : \"US\",\\n               \"types\" : [ \"country\", \"political\" ]\\n            },\\n            {\\n               \"long_name\" : \"11215\",\\n               \"short_name\" : \"11215\",\\n               \"types\" : [ \"postal_code\" ]\\n            },\\n            {\\n               \"long_name\" : \"2813\",\\n               \"short_name\" : \"2813\",\\n               \"types\" : [ \"postal_code_suffix\" ]\\n            }\\n         ],\\n         \"formatted_address\" : \"350 5th Ave, Brooklyn, NY 11215, USA\",\\n         \"geometry\" : {\\n            \"bounds\" : {\\n               \"northeast\" : {\\n                  \"lat\" : 40.672583,\\n                  \"lng\" : -73.98403\\n               },\\n               \"southwest\" : {\\n                  \"lat\" : 40.6717763,\\n                  \"lng\" : -73.98521939999999\\n               }\\n            },\\n            \"location\" : {\\n               \"lat\" : 40.6721797,\\n               \"lng\" : -73.9846247\\n            },\\n            \"location_type\" : \"ROOFTOP\",\\n            \"viewport\" : {\\n               \"northeast\" : {\\n                  \"lat\" : 40.6735286302915,\\n                  \"lng\" : -73.9832757197085\\n               },\\n               \"southwest\" : {\\n                  \"lat\" : 40.67083066970851,\\n                  \"lng\" : -73.98597368029151\\n               }\\n            }\\n         },\\n         \"place_id\" : \"ChIJyXBIaf5awokRA7y33q7Ghlw\",\\n         \"types\" : [ \"premise\" ]\\n      },\\n      {\\n         \"address_components\" : [\\n            {\\n               \"long_name\" : \"350\",\\n               \"short_name\" : \"350\",\\n               \"types\" : [ \"street_number\" ]\\n            },\\n            {\\n               \"long_name\" : \"5th Avenue\",\\n               \"short_name\" : \"5th Ave\",\\n               \"types\" : [ \"route\" ]\\n            },\\n            {\\n               \"long_name\" : \"Richmond District\",\\n               \"short_name\" : \"Richmond District\",\\n               \"types\" : [ \"neighborhood\", \"political\" ]\\n            },\\n            {\\n               \"long_name\" : \"San Francisco\",\\n               \"short_name\" : \"SF\",\\n               \"types\" : [ \"locality\", \"political\" ]\\n            },\\n            {\\n               \"long_name\" : \"San Francisco County\",\\n               \"short_name\" : \"San Francisco County\",\\n               \"types\" : [ \"administrative_area_level_2\", \"political\" ]\\n            },\\n            {\\n               \"long_name\" : \"California\",\\n               \"short_name\" : \"CA\",\\n               \"types\" : [ \"administrative_area_level_1\", \"political\" ]\\n            },\\n            {\\n               \"long_name\" : \"United States\",\\n               \"short_name\" : \"US\",\\n               \"types\" : [ \"country\", \"political\" ]\\n            },\\n            {\\n               \"long_name\" : \"94118\",\\n               \"short_name\" : \"94118\",\\n               \"types\" : [ \"postal_code\" ]\\n            },\\n            {\\n               \"long_name\" : \"2310\",\\n               \"short_name\" : \"2310\",\\n               \"types\" : [ \"postal_code_suffix\" ]\\n            }\\n         ],\\n         \"formatted_address\" : \"350 5th Ave, San Francisco, CA 94118, USA\",\\n         \"geometry\" : {\\n            \"bounds\" : {\\n               \"northeast\" : {\\n                  \"lat\" : 37.7820883,\\n                  \"lng\" : -122.462885\\n               },\\n               \"southwest\" : {\\n                  \"lat\" : 37.78200650000001,\\n                  \"lng\" : -122.4631585\\n               }\\n            },\\n            \"location\" : {\\n               \"lat\" : 37.7820474,\\n               \"lng\" : -122.4630217\\n            },\\n            \"location_type\" : \"ROOFTOP\",\\n            \"viewport\" : {\\n               \"northeast\" : {\\n                  \"lat\" : 37.78339638029151,\\n                  \"lng\" : -122.4616727697085\\n               },\\n               \"southwest\" : {\\n                  \"lat\" : 37.78069841970851,\\n                  \"lng\" : -122.4643707302915\\n               }\\n            }\\n         },\\n         \"place_id\" : \"ChIJv0p_UDmHhYARAoPqJmt4uPA\",\\n         \"types\" : [ \"premise\" ]\\n      },\\n      {\\n         \"address_components\" : [\\n            {\\n               \"long_name\" : \"350\",\\n               \"short_name\" : \"350\",\\n               \"types\" : [ \"street_number\" ]\\n            },\\n            {\\n               \"long_name\" : \"5th Avenue\",\\n               \"short_name\" : \"5th Ave\",\\n               \"types\" : [ \"route\" ]\\n            },\\n            {\\n               \"long_name\" : \"Huntington\",\\n               \"short_name\" : \"Huntington\",\\n               \"types\" : [ \"locality\", \"political\" ]\\n            },\\n            {\\n               \"long_name\" : \"2\",\\n               \"short_name\" : \"2\",\\n               \"types\" : [ \"administrative_area_level_3\", \"political\" ]\\n            },\\n            {\\n               \"long_name\" : \"Cabell County\",\\n               \"short_name\" : \"Cabell County\",\\n               \"types\" : [ \"administrative_area_level_2\", \"political\" ]\\n            },\\n            {\\n               \"long_name\" : \"West Virginia\",\\n               \"short_name\" : \"WV\",\\n               \"types\" : [ \"administrative_area_level_1\", \"political\" ]\\n            },\\n            {\\n               \"long_name\" : \"United States\",\\n               \"short_name\" : \"US\",\\n               \"types\" : [ \"country\", \"political\" ]\\n            },\\n            {\\n               \"long_name\" : \"25701\",\\n               \"short_name\" : \"25701\",\\n               \"types\" : [ \"postal_code\" ]\\n            },\\n            {\\n               \"long_name\" : \"1812\",\\n               \"short_name\" : \"1812\",\\n               \"types\" : [ \"postal_code_suffix\" ]\\n            }\\n         ],\\n         \"formatted_address\" : \"350 5th Ave, Huntington, WV 25701, USA\",\\n         \"geometry\" : {\\n            \"location\" : {\\n               \"lat\" : 38.418159,\\n               \"lng\" : -82.45237299999999\\n            },\\n            \"location_type\" : \"ROOFTOP\",\\n            \"viewport\" : {\\n               \"northeast\" : {\\n                  \"lat\" : 38.41950798029149,\\n                  \"lng\" : -82.45102401970848\\n               },\\n               \"southwest\" : {\\n                  \"lat\" : 38.41681001970849,\\n                  \"lng\" : -82.4537219802915\\n               }\\n            }\\n         },\\n         \"place_id\" : \"ChIJtYeQdN0JRogRv8Cbr6CP2kk\",\\n         \"types\" : [ \"street_address\" ]\\n      },\\n      {\\n         \"address_components\" : [\\n            {\\n               \"long_name\" : \"350\",\\n               \"short_name\" : \"350\",\\n               \"types\" : [ \"street_number\" ]\\n            },\\n            {\\n               \"long_name\" : \"5th Avenue\",\\n               \"short_name\" : \"5th Ave\",\\n               \"types\" : [ \"route\" ]\\n            },\\n            {\\n               \"long_name\" : \"Chickasaw\",\\n               \"short_name\" : \"Chickasaw\",\\n               \"types\" : [ \"locality\", \"political\" ]\\n            },\\n            {\\n               \"long_name\" : \"Mobile County\",\\n               \"short_name\" : \"Mobile County\",\\n               \"types\" : [ \"administrative_area_level_2\", \"political\" ]\\n            },\\n            {\\n               \"long_name\" : \"Alabama\",\\n               \"short_name\" : \"AL\",\\n               \"types\" : [ \"administrative_area_level_1\", \"political\" ]\\n            },\\n            {\\n               \"long_name\" : \"United States\",\\n               \"short_name\" : \"US\",\\n               \"types\" : [ \"country\", \"political\" ]\\n            },\\n            {\\n               \"long_name\" : \"36611\",\\n               \"short_name\" : \"36611\",\\n               \"types\" : [ \"postal_code\" ]\\n            },\\n            {\\n               \"long_name\" : \"1731\",\\n               \"short_name\" : \"1731\",\\n               \"types\" : [ \"postal_code_suffix\" ]\\n            }\\n         ],\\n         \"formatted_address\" : \"350 5th Ave, Chickasaw, AL 36611, USA\",\\n         \"geometry\" : {\\n            \"bounds\" : {\\n               \"northeast\" : {\\n                  \"lat\" : 30.7646236,\\n                  \"lng\" : -88.09165060000001\\n               },\\n               \"southwest\" : {\\n                  \"lat\" : 30.7644968,\\n                  \"lng\" : -88.0917463\\n               }\\n            },\\n            \"location\" : {\\n               \"lat\" : 30.7645602,\\n               \"lng\" : -88.0916984\\n            },\\n            \"location_type\" : \"ROOFTOP\",\\n            \"viewport\" : {\\n               \"northeast\" : {\\n                  \"lat\" : 30.7659091802915,\\n                  \"lng\" : -88.0903494697085\\n               },\\n               \"southwest\" : {\\n                  \"lat\" : 30.7632112197085,\\n                  \"lng\" : -88.09304743029151\\n               }\\n            }\\n         },\\n         \"place_id\" : \"ChIJZ9U4pN9TmogRpN1XEOqZMp0\",\\n         \"types\" : [ \"premise\" ]\\n      },\\n      {\\n         \"address_components\" : [\\n            {\\n               \"long_name\" : \"350\",\\n               \"short_name\" : \"350\",\\n               \"types\" : [ \"street_number\" ]\\n            },\\n            {\\n               \"long_name\" : \"5th Avenue\",\\n               \"short_name\" : \"5th Ave\",\\n               \"types\" : [ \"route\" ]\\n            },\\n            {\\n               \"long_name\" : \"Midtown\",\\n               \"short_name\" : \"Midtown\",\\n               \"types\" : [ \"neighborhood\", \"political\" ]\\n            },\\n            {\\n               \"long_name\" : \"Manhattan\",\\n               \"short_name\" : \"Manhattan\",\\n               \"types\" : [ \"political\", \"sublocality\", \"sublocality_level_1\" ]\\n            },\\n            {\\n               \"long_name\" : \"New York\",\\n               \"short_name\" : \"New York\",\\n               \"types\" : [ \"locality\", \"political\" ]\\n            },\\n            {\\n               \"long_name\" : \"New York County\",\\n               \"short_name\" : \"New York County\",\\n               \"types\" : [ \"administrative_area_level_2\", \"political\" ]\\n            },\\n            {\\n               \"long_name\" : \"New York\",\\n               \"short_name\" : \"NY\",\\n               \"types\" : [ \"administrative_area_level_1\", \"political\" ]\\n            },\\n            {\\n               \"long_name\" : \"United States\",\\n               \"short_name\" : \"US\",\\n               \"types\" : [ \"country\", \"political\" ]\\n            },\\n            {\\n               \"long_name\" : \"10118\",\\n               \"short_name\" : \"10118\",\\n               \"types\" : [ \"postal_code\" ]\\n            }\\n         ],\\n         \"formatted_address\" : \"350 5th Ave, New York, NY 10118, USA\",\\n         \"geometry\" : {\\n            \"location\" : {\\n               \"lat\" : 40.7487097,\\n               \"lng\" : -73.9856556\\n            },\\n            \"location_type\" : \"ROOFTOP\",\\n            \"viewport\" : {\\n               \"northeast\" : {\\n                  \"lat\" : 40.7500586802915,\\n                  \"lng\" : -73.98430661970849\\n               },\\n               \"southwest\" : {\\n                  \"lat\" : 40.7473607197085,\\n                  \"lng\" : -73.9870045802915\\n               }\\n            }\\n         },\\n         \"place_id\" : \"ChIJn6wOs6lZwokRLKy1iqRcoKw\",\\n         \"types\" : [ \"street_address\" ]\\n      },\\n      {\\n         \"address_components\" : [\\n            {\\n               \"long_name\" : \"350\",\\n               \"short_name\" : \"350\",\\n               \"types\" : [ \"street_number\" ]\\n            },\\n            {\\n               \"long_name\" : \"5th Avenue\",\\n               \"short_name\" : \"5th Ave\",\\n               \"types\" : [ \"route\" ]\\n            },\\n            {\\n               \"long_name\" : \"Troy\",\\n               \"short_name\" : \"Troy\",\\n               \"types\" : [ \"locality\", \"political\" ]\\n            },\\n            {\\n               \"long_name\" : \"Rensselaer County\",\\n               \"short_name\" : \"Rensselaer County\",\\n               \"types\" : [ \"administrative_area_level_2\", \"political\" ]\\n            },\\n            {\\n               \"long_name\" : \"New York\",\\n               \"short_name\" : \"NY\",\\n               \"types\" : [ \"administrative_area_level_1\", \"political\" ]\\n            },\\n            {\\n               \"long_name\" : \"United States\",\\n               \"short_name\" : \"US\",\\n               \"types\" : [ \"country\", \"political\" ]\\n            },\\n            {\\n               \"long_name\" : \"12182\",\\n               \"short_name\" : \"12182\",\\n               \"types\" : [ \"postal_code\" ]\\n            }\\n         ],\\n         \"formatted_address\" : \"350 5th Ave, Troy, NY 12182, USA\",\\n         \"geometry\" : {\\n            \"location\" : {\\n               \"lat\" : 42.7653869,\\n               \"lng\" : -73.677187\\n            },\\n            \"location_type\" : \"ROOFTOP\",\\n            \"viewport\" : {\\n               \"northeast\" : {\\n                  \"lat\" : 42.7667358802915,\\n                  \"lng\" : -73.67583801970851\\n               },\\n               \"southwest\" : {\\n                  \"lat\" : 42.7640379197085,\\n                  \"lng\" : -73.67853598029151\\n               }\\n            }\\n         },\\n         \"place_id\" : \"ChIJK5p02N8P3okRAKs4ZUuOZ4Q\",\\n         \"types\" : [ \"street_address\" ]\\n      }\\n   ],\\n   \"status\" : \"OK\"\\n}\\n'"
      ]
     },
     "execution_count": 19,
     "metadata": {},
     "output_type": "execute_result"
    }
   ],
   "source": [
    "# Simply get the geo data belonging to a certain address\n",
    "import requests\n",
    "address = \"350 Fifth Ave\"\n",
    "url = \"https://maps.googleapis.com/maps/api/geocode/json?address=%s\" % (address)\n",
    "response = requests.get(url)\n",
    "response.text"
   ]
  },
  {
   "cell_type": "markdown",
   "metadata": {},
   "source": [
    "Look at the data in JSON. Note that the \"u\" prefix indicates the string is of type Unicode (a Python thing)."
   ]
  },
  {
   "cell_type": "code",
   "execution_count": 20,
   "metadata": {
    "collapsed": false
   },
   "outputs": [
    {
     "data": {
      "text/plain": [
       "{u'results': [{u'address_components': [{u'long_name': u'350',\n",
       "     u'short_name': u'350',\n",
       "     u'types': [u'street_number']},\n",
       "    {u'long_name': u'5th Avenue',\n",
       "     u'short_name': u'5th Ave',\n",
       "     u'types': [u'route']},\n",
       "    {u'long_name': u'Park Slope',\n",
       "     u'short_name': u'Park Slope',\n",
       "     u'types': [u'neighborhood', u'political']},\n",
       "    {u'long_name': u'Brooklyn',\n",
       "     u'short_name': u'Brooklyn',\n",
       "     u'types': [u'political', u'sublocality', u'sublocality_level_1']},\n",
       "    {u'long_name': u'Kings County',\n",
       "     u'short_name': u'Kings County',\n",
       "     u'types': [u'administrative_area_level_2', u'political']},\n",
       "    {u'long_name': u'New York',\n",
       "     u'short_name': u'NY',\n",
       "     u'types': [u'administrative_area_level_1', u'political']},\n",
       "    {u'long_name': u'United States',\n",
       "     u'short_name': u'US',\n",
       "     u'types': [u'country', u'political']},\n",
       "    {u'long_name': u'11215',\n",
       "     u'short_name': u'11215',\n",
       "     u'types': [u'postal_code']},\n",
       "    {u'long_name': u'2813',\n",
       "     u'short_name': u'2813',\n",
       "     u'types': [u'postal_code_suffix']}],\n",
       "   u'formatted_address': u'350 5th Ave, Brooklyn, NY 11215, USA',\n",
       "   u'geometry': {u'bounds': {u'northeast': {u'lat': 40.672583,\n",
       "      u'lng': -73.98403},\n",
       "     u'southwest': {u'lat': 40.6717763, u'lng': -73.98521939999999}},\n",
       "    u'location': {u'lat': 40.6721797, u'lng': -73.9846247},\n",
       "    u'location_type': u'ROOFTOP',\n",
       "    u'viewport': {u'northeast': {u'lat': 40.6735286302915,\n",
       "      u'lng': -73.9832757197085},\n",
       "     u'southwest': {u'lat': 40.67083066970851, u'lng': -73.98597368029151}}},\n",
       "   u'place_id': u'ChIJyXBIaf5awokRA7y33q7Ghlw',\n",
       "   u'types': [u'premise']},\n",
       "  {u'address_components': [{u'long_name': u'350',\n",
       "     u'short_name': u'350',\n",
       "     u'types': [u'street_number']},\n",
       "    {u'long_name': u'5th Avenue',\n",
       "     u'short_name': u'5th Ave',\n",
       "     u'types': [u'route']},\n",
       "    {u'long_name': u'Richmond District',\n",
       "     u'short_name': u'Richmond District',\n",
       "     u'types': [u'neighborhood', u'political']},\n",
       "    {u'long_name': u'San Francisco',\n",
       "     u'short_name': u'SF',\n",
       "     u'types': [u'locality', u'political']},\n",
       "    {u'long_name': u'San Francisco County',\n",
       "     u'short_name': u'San Francisco County',\n",
       "     u'types': [u'administrative_area_level_2', u'political']},\n",
       "    {u'long_name': u'California',\n",
       "     u'short_name': u'CA',\n",
       "     u'types': [u'administrative_area_level_1', u'political']},\n",
       "    {u'long_name': u'United States',\n",
       "     u'short_name': u'US',\n",
       "     u'types': [u'country', u'political']},\n",
       "    {u'long_name': u'94118',\n",
       "     u'short_name': u'94118',\n",
       "     u'types': [u'postal_code']},\n",
       "    {u'long_name': u'2310',\n",
       "     u'short_name': u'2310',\n",
       "     u'types': [u'postal_code_suffix']}],\n",
       "   u'formatted_address': u'350 5th Ave, San Francisco, CA 94118, USA',\n",
       "   u'geometry': {u'bounds': {u'northeast': {u'lat': 37.7820883,\n",
       "      u'lng': -122.462885},\n",
       "     u'southwest': {u'lat': 37.78200650000001, u'lng': -122.4631585}},\n",
       "    u'location': {u'lat': 37.7820474, u'lng': -122.4630217},\n",
       "    u'location_type': u'ROOFTOP',\n",
       "    u'viewport': {u'northeast': {u'lat': 37.78339638029151,\n",
       "      u'lng': -122.4616727697085},\n",
       "     u'southwest': {u'lat': 37.78069841970851, u'lng': -122.4643707302915}}},\n",
       "   u'place_id': u'ChIJv0p_UDmHhYARAoPqJmt4uPA',\n",
       "   u'types': [u'premise']},\n",
       "  {u'address_components': [{u'long_name': u'350',\n",
       "     u'short_name': u'350',\n",
       "     u'types': [u'street_number']},\n",
       "    {u'long_name': u'5th Avenue',\n",
       "     u'short_name': u'5th Ave',\n",
       "     u'types': [u'route']},\n",
       "    {u'long_name': u'Huntington',\n",
       "     u'short_name': u'Huntington',\n",
       "     u'types': [u'locality', u'political']},\n",
       "    {u'long_name': u'2',\n",
       "     u'short_name': u'2',\n",
       "     u'types': [u'administrative_area_level_3', u'political']},\n",
       "    {u'long_name': u'Cabell County',\n",
       "     u'short_name': u'Cabell County',\n",
       "     u'types': [u'administrative_area_level_2', u'political']},\n",
       "    {u'long_name': u'West Virginia',\n",
       "     u'short_name': u'WV',\n",
       "     u'types': [u'administrative_area_level_1', u'political']},\n",
       "    {u'long_name': u'United States',\n",
       "     u'short_name': u'US',\n",
       "     u'types': [u'country', u'political']},\n",
       "    {u'long_name': u'25701',\n",
       "     u'short_name': u'25701',\n",
       "     u'types': [u'postal_code']},\n",
       "    {u'long_name': u'1812',\n",
       "     u'short_name': u'1812',\n",
       "     u'types': [u'postal_code_suffix']}],\n",
       "   u'formatted_address': u'350 5th Ave, Huntington, WV 25701, USA',\n",
       "   u'geometry': {u'location': {u'lat': 38.418159, u'lng': -82.452373},\n",
       "    u'location_type': u'ROOFTOP',\n",
       "    u'viewport': {u'northeast': {u'lat': 38.41950798029149,\n",
       "      u'lng': -82.45102401970848},\n",
       "     u'southwest': {u'lat': 38.41681001970849, u'lng': -82.4537219802915}}},\n",
       "   u'place_id': u'ChIJtYeQdN0JRogRv8Cbr6CP2kk',\n",
       "   u'types': [u'street_address']},\n",
       "  {u'address_components': [{u'long_name': u'350',\n",
       "     u'short_name': u'350',\n",
       "     u'types': [u'street_number']},\n",
       "    {u'long_name': u'5th Avenue',\n",
       "     u'short_name': u'5th Ave',\n",
       "     u'types': [u'route']},\n",
       "    {u'long_name': u'Chickasaw',\n",
       "     u'short_name': u'Chickasaw',\n",
       "     u'types': [u'locality', u'political']},\n",
       "    {u'long_name': u'Mobile County',\n",
       "     u'short_name': u'Mobile County',\n",
       "     u'types': [u'administrative_area_level_2', u'political']},\n",
       "    {u'long_name': u'Alabama',\n",
       "     u'short_name': u'AL',\n",
       "     u'types': [u'administrative_area_level_1', u'political']},\n",
       "    {u'long_name': u'United States',\n",
       "     u'short_name': u'US',\n",
       "     u'types': [u'country', u'political']},\n",
       "    {u'long_name': u'36611',\n",
       "     u'short_name': u'36611',\n",
       "     u'types': [u'postal_code']},\n",
       "    {u'long_name': u'1731',\n",
       "     u'short_name': u'1731',\n",
       "     u'types': [u'postal_code_suffix']}],\n",
       "   u'formatted_address': u'350 5th Ave, Chickasaw, AL 36611, USA',\n",
       "   u'geometry': {u'bounds': {u'northeast': {u'lat': 30.7646236,\n",
       "      u'lng': -88.09165060000001},\n",
       "     u'southwest': {u'lat': 30.7644968, u'lng': -88.0917463}},\n",
       "    u'location': {u'lat': 30.7645602, u'lng': -88.0916984},\n",
       "    u'location_type': u'ROOFTOP',\n",
       "    u'viewport': {u'northeast': {u'lat': 30.7659091802915,\n",
       "      u'lng': -88.0903494697085},\n",
       "     u'southwest': {u'lat': 30.7632112197085, u'lng': -88.0930474302915}}},\n",
       "   u'place_id': u'ChIJZ9U4pN9TmogRpN1XEOqZMp0',\n",
       "   u'types': [u'premise']},\n",
       "  {u'address_components': [{u'long_name': u'350',\n",
       "     u'short_name': u'350',\n",
       "     u'types': [u'street_number']},\n",
       "    {u'long_name': u'5th Avenue',\n",
       "     u'short_name': u'5th Ave',\n",
       "     u'types': [u'route']},\n",
       "    {u'long_name': u'Midtown',\n",
       "     u'short_name': u'Midtown',\n",
       "     u'types': [u'neighborhood', u'political']},\n",
       "    {u'long_name': u'Manhattan',\n",
       "     u'short_name': u'Manhattan',\n",
       "     u'types': [u'political', u'sublocality', u'sublocality_level_1']},\n",
       "    {u'long_name': u'New York',\n",
       "     u'short_name': u'New York',\n",
       "     u'types': [u'locality', u'political']},\n",
       "    {u'long_name': u'New York County',\n",
       "     u'short_name': u'New York County',\n",
       "     u'types': [u'administrative_area_level_2', u'political']},\n",
       "    {u'long_name': u'New York',\n",
       "     u'short_name': u'NY',\n",
       "     u'types': [u'administrative_area_level_1', u'political']},\n",
       "    {u'long_name': u'United States',\n",
       "     u'short_name': u'US',\n",
       "     u'types': [u'country', u'political']},\n",
       "    {u'long_name': u'10118',\n",
       "     u'short_name': u'10118',\n",
       "     u'types': [u'postal_code']}],\n",
       "   u'formatted_address': u'350 5th Ave, New York, NY 10118, USA',\n",
       "   u'geometry': {u'location': {u'lat': 40.7487097, u'lng': -73.9856556},\n",
       "    u'location_type': u'ROOFTOP',\n",
       "    u'viewport': {u'northeast': {u'lat': 40.7500586802915,\n",
       "      u'lng': -73.98430661970849},\n",
       "     u'southwest': {u'lat': 40.7473607197085, u'lng': -73.9870045802915}}},\n",
       "   u'place_id': u'ChIJn6wOs6lZwokRLKy1iqRcoKw',\n",
       "   u'types': [u'street_address']},\n",
       "  {u'address_components': [{u'long_name': u'350',\n",
       "     u'short_name': u'350',\n",
       "     u'types': [u'street_number']},\n",
       "    {u'long_name': u'5th Avenue',\n",
       "     u'short_name': u'5th Ave',\n",
       "     u'types': [u'route']},\n",
       "    {u'long_name': u'Troy',\n",
       "     u'short_name': u'Troy',\n",
       "     u'types': [u'locality', u'political']},\n",
       "    {u'long_name': u'Rensselaer County',\n",
       "     u'short_name': u'Rensselaer County',\n",
       "     u'types': [u'administrative_area_level_2', u'political']},\n",
       "    {u'long_name': u'New York',\n",
       "     u'short_name': u'NY',\n",
       "     u'types': [u'administrative_area_level_1', u'political']},\n",
       "    {u'long_name': u'United States',\n",
       "     u'short_name': u'US',\n",
       "     u'types': [u'country', u'political']},\n",
       "    {u'long_name': u'12182',\n",
       "     u'short_name': u'12182',\n",
       "     u'types': [u'postal_code']}],\n",
       "   u'formatted_address': u'350 5th Ave, Troy, NY 12182, USA',\n",
       "   u'geometry': {u'location': {u'lat': 42.7653869, u'lng': -73.677187},\n",
       "    u'location_type': u'ROOFTOP',\n",
       "    u'viewport': {u'northeast': {u'lat': 42.7667358802915,\n",
       "      u'lng': -73.67583801970851},\n",
       "     u'southwest': {u'lat': 42.7640379197085, u'lng': -73.67853598029151}}},\n",
       "   u'place_id': u'ChIJK5p02N8P3okRAKs4ZUuOZ4Q',\n",
       "   u'types': [u'street_address']}],\n",
       " u'status': u'OK'}"
      ]
     },
     "execution_count": 20,
     "metadata": {},
     "output_type": "execute_result"
    }
   ],
   "source": [
    "json_data = response.json()\n",
    "json_data"
   ]
  },
  {
   "cell_type": "markdown",
   "metadata": {},
   "source": [
    "Some specific information in the JSON object to look at..."
   ]
  },
  {
   "cell_type": "code",
   "execution_count": 21,
   "metadata": {
    "collapsed": false
   },
   "outputs": [
    {
     "name": "stdout",
     "output_type": "stream",
     "text": [
      "status\n",
      "results\n"
     ]
    }
   ],
   "source": [
    "for key in json_data:\n",
    "    print(key)"
   ]
  },
  {
   "cell_type": "code",
   "execution_count": 22,
   "metadata": {
    "collapsed": false
   },
   "outputs": [
    {
     "data": {
      "text/plain": [
       "u'OK'"
      ]
     },
     "execution_count": 22,
     "metadata": {},
     "output_type": "execute_result"
    }
   ],
   "source": [
    "json_data[\"status\"]"
   ]
  },
  {
   "cell_type": "code",
   "execution_count": 23,
   "metadata": {
    "collapsed": false
   },
   "outputs": [
    {
     "data": {
      "text/plain": [
       "[{u'address_components': [{u'long_name': u'350',\n",
       "    u'short_name': u'350',\n",
       "    u'types': [u'street_number']},\n",
       "   {u'long_name': u'5th Avenue',\n",
       "    u'short_name': u'5th Ave',\n",
       "    u'types': [u'route']},\n",
       "   {u'long_name': u'Park Slope',\n",
       "    u'short_name': u'Park Slope',\n",
       "    u'types': [u'neighborhood', u'political']},\n",
       "   {u'long_name': u'Brooklyn',\n",
       "    u'short_name': u'Brooklyn',\n",
       "    u'types': [u'political', u'sublocality', u'sublocality_level_1']},\n",
       "   {u'long_name': u'Kings County',\n",
       "    u'short_name': u'Kings County',\n",
       "    u'types': [u'administrative_area_level_2', u'political']},\n",
       "   {u'long_name': u'New York',\n",
       "    u'short_name': u'NY',\n",
       "    u'types': [u'administrative_area_level_1', u'political']},\n",
       "   {u'long_name': u'United States',\n",
       "    u'short_name': u'US',\n",
       "    u'types': [u'country', u'political']},\n",
       "   {u'long_name': u'11215',\n",
       "    u'short_name': u'11215',\n",
       "    u'types': [u'postal_code']},\n",
       "   {u'long_name': u'2813',\n",
       "    u'short_name': u'2813',\n",
       "    u'types': [u'postal_code_suffix']}],\n",
       "  u'formatted_address': u'350 5th Ave, Brooklyn, NY 11215, USA',\n",
       "  u'geometry': {u'bounds': {u'northeast': {u'lat': 40.672583,\n",
       "     u'lng': -73.98403},\n",
       "    u'southwest': {u'lat': 40.6717763, u'lng': -73.98521939999999}},\n",
       "   u'location': {u'lat': 40.6721797, u'lng': -73.9846247},\n",
       "   u'location_type': u'ROOFTOP',\n",
       "   u'viewport': {u'northeast': {u'lat': 40.6735286302915,\n",
       "     u'lng': -73.9832757197085},\n",
       "    u'southwest': {u'lat': 40.67083066970851, u'lng': -73.98597368029151}}},\n",
       "  u'place_id': u'ChIJyXBIaf5awokRA7y33q7Ghlw',\n",
       "  u'types': [u'premise']},\n",
       " {u'address_components': [{u'long_name': u'350',\n",
       "    u'short_name': u'350',\n",
       "    u'types': [u'street_number']},\n",
       "   {u'long_name': u'5th Avenue',\n",
       "    u'short_name': u'5th Ave',\n",
       "    u'types': [u'route']},\n",
       "   {u'long_name': u'Richmond District',\n",
       "    u'short_name': u'Richmond District',\n",
       "    u'types': [u'neighborhood', u'political']},\n",
       "   {u'long_name': u'San Francisco',\n",
       "    u'short_name': u'SF',\n",
       "    u'types': [u'locality', u'political']},\n",
       "   {u'long_name': u'San Francisco County',\n",
       "    u'short_name': u'San Francisco County',\n",
       "    u'types': [u'administrative_area_level_2', u'political']},\n",
       "   {u'long_name': u'California',\n",
       "    u'short_name': u'CA',\n",
       "    u'types': [u'administrative_area_level_1', u'political']},\n",
       "   {u'long_name': u'United States',\n",
       "    u'short_name': u'US',\n",
       "    u'types': [u'country', u'political']},\n",
       "   {u'long_name': u'94118',\n",
       "    u'short_name': u'94118',\n",
       "    u'types': [u'postal_code']},\n",
       "   {u'long_name': u'2310',\n",
       "    u'short_name': u'2310',\n",
       "    u'types': [u'postal_code_suffix']}],\n",
       "  u'formatted_address': u'350 5th Ave, San Francisco, CA 94118, USA',\n",
       "  u'geometry': {u'bounds': {u'northeast': {u'lat': 37.7820883,\n",
       "     u'lng': -122.462885},\n",
       "    u'southwest': {u'lat': 37.78200650000001, u'lng': -122.4631585}},\n",
       "   u'location': {u'lat': 37.7820474, u'lng': -122.4630217},\n",
       "   u'location_type': u'ROOFTOP',\n",
       "   u'viewport': {u'northeast': {u'lat': 37.78339638029151,\n",
       "     u'lng': -122.4616727697085},\n",
       "    u'southwest': {u'lat': 37.78069841970851, u'lng': -122.4643707302915}}},\n",
       "  u'place_id': u'ChIJv0p_UDmHhYARAoPqJmt4uPA',\n",
       "  u'types': [u'premise']},\n",
       " {u'address_components': [{u'long_name': u'350',\n",
       "    u'short_name': u'350',\n",
       "    u'types': [u'street_number']},\n",
       "   {u'long_name': u'5th Avenue',\n",
       "    u'short_name': u'5th Ave',\n",
       "    u'types': [u'route']},\n",
       "   {u'long_name': u'Huntington',\n",
       "    u'short_name': u'Huntington',\n",
       "    u'types': [u'locality', u'political']},\n",
       "   {u'long_name': u'2',\n",
       "    u'short_name': u'2',\n",
       "    u'types': [u'administrative_area_level_3', u'political']},\n",
       "   {u'long_name': u'Cabell County',\n",
       "    u'short_name': u'Cabell County',\n",
       "    u'types': [u'administrative_area_level_2', u'political']},\n",
       "   {u'long_name': u'West Virginia',\n",
       "    u'short_name': u'WV',\n",
       "    u'types': [u'administrative_area_level_1', u'political']},\n",
       "   {u'long_name': u'United States',\n",
       "    u'short_name': u'US',\n",
       "    u'types': [u'country', u'political']},\n",
       "   {u'long_name': u'25701',\n",
       "    u'short_name': u'25701',\n",
       "    u'types': [u'postal_code']},\n",
       "   {u'long_name': u'1812',\n",
       "    u'short_name': u'1812',\n",
       "    u'types': [u'postal_code_suffix']}],\n",
       "  u'formatted_address': u'350 5th Ave, Huntington, WV 25701, USA',\n",
       "  u'geometry': {u'location': {u'lat': 38.418159, u'lng': -82.452373},\n",
       "   u'location_type': u'ROOFTOP',\n",
       "   u'viewport': {u'northeast': {u'lat': 38.41950798029149,\n",
       "     u'lng': -82.45102401970848},\n",
       "    u'southwest': {u'lat': 38.41681001970849, u'lng': -82.4537219802915}}},\n",
       "  u'place_id': u'ChIJtYeQdN0JRogRv8Cbr6CP2kk',\n",
       "  u'types': [u'street_address']},\n",
       " {u'address_components': [{u'long_name': u'350',\n",
       "    u'short_name': u'350',\n",
       "    u'types': [u'street_number']},\n",
       "   {u'long_name': u'5th Avenue',\n",
       "    u'short_name': u'5th Ave',\n",
       "    u'types': [u'route']},\n",
       "   {u'long_name': u'Chickasaw',\n",
       "    u'short_name': u'Chickasaw',\n",
       "    u'types': [u'locality', u'political']},\n",
       "   {u'long_name': u'Mobile County',\n",
       "    u'short_name': u'Mobile County',\n",
       "    u'types': [u'administrative_area_level_2', u'political']},\n",
       "   {u'long_name': u'Alabama',\n",
       "    u'short_name': u'AL',\n",
       "    u'types': [u'administrative_area_level_1', u'political']},\n",
       "   {u'long_name': u'United States',\n",
       "    u'short_name': u'US',\n",
       "    u'types': [u'country', u'political']},\n",
       "   {u'long_name': u'36611',\n",
       "    u'short_name': u'36611',\n",
       "    u'types': [u'postal_code']},\n",
       "   {u'long_name': u'1731',\n",
       "    u'short_name': u'1731',\n",
       "    u'types': [u'postal_code_suffix']}],\n",
       "  u'formatted_address': u'350 5th Ave, Chickasaw, AL 36611, USA',\n",
       "  u'geometry': {u'bounds': {u'northeast': {u'lat': 30.7646236,\n",
       "     u'lng': -88.09165060000001},\n",
       "    u'southwest': {u'lat': 30.7644968, u'lng': -88.0917463}},\n",
       "   u'location': {u'lat': 30.7645602, u'lng': -88.0916984},\n",
       "   u'location_type': u'ROOFTOP',\n",
       "   u'viewport': {u'northeast': {u'lat': 30.7659091802915,\n",
       "     u'lng': -88.0903494697085},\n",
       "    u'southwest': {u'lat': 30.7632112197085, u'lng': -88.0930474302915}}},\n",
       "  u'place_id': u'ChIJZ9U4pN9TmogRpN1XEOqZMp0',\n",
       "  u'types': [u'premise']},\n",
       " {u'address_components': [{u'long_name': u'350',\n",
       "    u'short_name': u'350',\n",
       "    u'types': [u'street_number']},\n",
       "   {u'long_name': u'5th Avenue',\n",
       "    u'short_name': u'5th Ave',\n",
       "    u'types': [u'route']},\n",
       "   {u'long_name': u'Midtown',\n",
       "    u'short_name': u'Midtown',\n",
       "    u'types': [u'neighborhood', u'political']},\n",
       "   {u'long_name': u'Manhattan',\n",
       "    u'short_name': u'Manhattan',\n",
       "    u'types': [u'political', u'sublocality', u'sublocality_level_1']},\n",
       "   {u'long_name': u'New York',\n",
       "    u'short_name': u'New York',\n",
       "    u'types': [u'locality', u'political']},\n",
       "   {u'long_name': u'New York County',\n",
       "    u'short_name': u'New York County',\n",
       "    u'types': [u'administrative_area_level_2', u'political']},\n",
       "   {u'long_name': u'New York',\n",
       "    u'short_name': u'NY',\n",
       "    u'types': [u'administrative_area_level_1', u'political']},\n",
       "   {u'long_name': u'United States',\n",
       "    u'short_name': u'US',\n",
       "    u'types': [u'country', u'political']},\n",
       "   {u'long_name': u'10118',\n",
       "    u'short_name': u'10118',\n",
       "    u'types': [u'postal_code']}],\n",
       "  u'formatted_address': u'350 5th Ave, New York, NY 10118, USA',\n",
       "  u'geometry': {u'location': {u'lat': 40.7487097, u'lng': -73.9856556},\n",
       "   u'location_type': u'ROOFTOP',\n",
       "   u'viewport': {u'northeast': {u'lat': 40.7500586802915,\n",
       "     u'lng': -73.98430661970849},\n",
       "    u'southwest': {u'lat': 40.7473607197085, u'lng': -73.9870045802915}}},\n",
       "  u'place_id': u'ChIJn6wOs6lZwokRLKy1iqRcoKw',\n",
       "  u'types': [u'street_address']},\n",
       " {u'address_components': [{u'long_name': u'350',\n",
       "    u'short_name': u'350',\n",
       "    u'types': [u'street_number']},\n",
       "   {u'long_name': u'5th Avenue',\n",
       "    u'short_name': u'5th Ave',\n",
       "    u'types': [u'route']},\n",
       "   {u'long_name': u'Troy',\n",
       "    u'short_name': u'Troy',\n",
       "    u'types': [u'locality', u'political']},\n",
       "   {u'long_name': u'Rensselaer County',\n",
       "    u'short_name': u'Rensselaer County',\n",
       "    u'types': [u'administrative_area_level_2', u'political']},\n",
       "   {u'long_name': u'New York',\n",
       "    u'short_name': u'NY',\n",
       "    u'types': [u'administrative_area_level_1', u'political']},\n",
       "   {u'long_name': u'United States',\n",
       "    u'short_name': u'US',\n",
       "    u'types': [u'country', u'political']},\n",
       "   {u'long_name': u'12182',\n",
       "    u'short_name': u'12182',\n",
       "    u'types': [u'postal_code']}],\n",
       "  u'formatted_address': u'350 5th Ave, Troy, NY 12182, USA',\n",
       "  u'geometry': {u'location': {u'lat': 42.7653869, u'lng': -73.677187},\n",
       "   u'location_type': u'ROOFTOP',\n",
       "   u'viewport': {u'northeast': {u'lat': 42.7667358802915,\n",
       "     u'lng': -73.67583801970851},\n",
       "    u'southwest': {u'lat': 42.7640379197085, u'lng': -73.67853598029151}}},\n",
       "  u'place_id': u'ChIJK5p02N8P3okRAKs4ZUuOZ4Q',\n",
       "  u'types': [u'street_address']}]"
      ]
     },
     "execution_count": 23,
     "metadata": {},
     "output_type": "execute_result"
    }
   ],
   "source": [
    "json_data[\"results\"]"
   ]
  },
  {
   "cell_type": "markdown",
   "metadata": {},
   "source": [
    "Ha, almost everything else in \"results\". \n",
    "<n> Next, get more specific information from the data. How about getting the latitude and longitude of a given address? </n>"
   ]
  },
  {
   "cell_type": "code",
   "execution_count": 24,
   "metadata": {
    "collapsed": false
   },
   "outputs": [
    {
     "data": {
      "text/plain": [
       "['Empire', 'State', 'Building,', 'New', 'York,', 'NY']"
      ]
     },
     "execution_count": 24,
     "metadata": {},
     "output_type": "execute_result"
    }
   ],
   "source": [
    "# First know how the address string is constructed\n",
    "address = \"Empire State Building, New York, NY\"\n",
    "address.split(\" \")"
   ]
  },
  {
   "cell_type": "code",
   "execution_count": 26,
   "metadata": {
    "collapsed": false
   },
   "outputs": [
    {
     "data": {
      "text/plain": [
       "'Empire_State_Building,_New_York,_NY'"
      ]
     },
     "execution_count": 26,
     "metadata": {},
     "output_type": "execute_result"
    }
   ],
   "source": [
    "# Then reconstruct the address to be used to call its geocode\n",
    "x = address.split(\" \")\n",
    "\"_\".join(x)"
   ]
  },
  {
   "cell_type": "code",
   "execution_count": 27,
   "metadata": {
    "collapsed": true
   },
   "outputs": [],
   "source": [
    "# Define a function to get the geocode (latitude, longitude) from the JSON data\n",
    "# Putting all the previous steps together\n",
    "def get_geocode(address):\n",
    "    address = \"_\".join(address.split(\" \"))\n",
    "    url = \"https://maps.googleapis.com/maps/api/geocode/json?address=%s\" % (address)\n",
    "    import requests\n",
    "    response = requests.get(url)\n",
    "    if response.status_code == 200:\n",
    "        json_data = response.json()\n",
    "        lat = json_data[\"results\"][0][\"geometry\"][\"location\"][\"lat\"]\n",
    "        lng = json_data[\"results\"][0][\"geometry\"][\"location\"][\"lng\"]\n",
    "        return lat, lng\n",
    "    else:\n",
    "        return None"
   ]
  },
  {
   "cell_type": "code",
   "execution_count": 28,
   "metadata": {
    "collapsed": false
   },
   "outputs": [
    {
     "data": {
      "text/plain": [
       "(40.7487097, -73.9856556)"
      ]
     },
     "execution_count": 28,
     "metadata": {},
     "output_type": "execute_result"
    }
   ],
   "source": [
    "get_geocode(\"350 Fifth Ave, New York, NY\")"
   ]
  },
  {
   "cell_type": "markdown",
   "metadata": {},
   "source": [
    "Put the geocode back to Google, and it is right where the Empire State Building is."
   ]
  }
 ],
 "metadata": {
  "kernelspec": {
   "display_name": "Python 2",
   "language": "python",
   "name": "python2"
  },
  "language_info": {
   "codemirror_mode": {
    "name": "ipython",
    "version": 2
   },
   "file_extension": ".py",
   "mimetype": "text/x-python",
   "name": "python",
   "nbconvert_exporter": "python",
   "pygments_lexer": "ipython2",
   "version": "2.7.11"
  }
 },
 "nbformat": 4,
 "nbformat_minor": 0
}
